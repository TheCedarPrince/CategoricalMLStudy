{
 "cells": [
  {
   "cell_type": "markdown",
   "metadata": {},
   "source": [
    "# Analysis Set-up"
   ]
  },
  {
   "cell_type": "code",
   "execution_count": 1,
   "metadata": {
    "execution": {
     "iopub.execute_input": "2024-11-14T14:56:17.764000Z",
     "iopub.status.busy": "2024-11-14T14:56:17.237000Z",
     "iopub.status.idle": "2024-11-14T14:56:32.487000Z",
     "shell.execute_reply": "2024-11-14T14:56:32.424000Z"
    }
   },
   "outputs": [],
   "source": [
    "using DrWatson\n",
    "@quickactivate \"CompositionalMLStudy\"\n",
    "\n",
    "using CairoMakie\n",
    "using Dates\n",
    "using OMOPCDMCohortCreator\n",
    "using CSV\n",
    "using DataFrames\n",
    "using IPUMS\n",
    "using LibPQ\n",
    "using MLJ\n",
    "\n",
    "import DBInterface:\n",
    "    connect,\n",
    "    execute\n",
    "\n",
    "import DrWatson:\n",
    "  datadir\n",
    "\n",
    "import FunSQL:\n",
    "    reflect,\n",
    "    render\n",
    "\n",
    "import IPUMS:\n",
    "  load_ipums_extract,\n",
    "  parse_ddi\n",
    "\n",
    "import OMOPCDMCohortCreator:\n",
    "    GenerateDatabaseDetails,\n",
    "    GenerateTables\n",
    "\n",
    "import OHDSICohortExpressions:\n",
    "    translate,\n",
    "    Model"
   ]
  },
  {
   "cell_type": "markdown",
   "metadata": {},
   "source": [
    "## Data Configuration\n",
    "\n",
    "### IPUMS Data Directory"
   ]
  },
  {
   "cell_type": "code",
   "execution_count": 2,
   "metadata": {
    "execution": {
     "iopub.execute_input": "2024-11-14T14:56:32.967000Z",
     "iopub.status.busy": "2024-11-14T14:56:32.575000Z",
     "iopub.status.idle": "2024-11-14T14:56:36.684000Z",
     "shell.execute_reply": "2024-11-14T14:56:36.684000Z"
    }
   },
   "outputs": [
    {
     "data": {
      "text/plain": [
       "\"cps_00097.dat\""
      ]
     },
     "execution_count": 2,
     "metadata": {},
     "output_type": "execute_result"
    }
   ],
   "source": [
    "# IPUMS Data Directory\n",
    "IPUMS_DIR = datadir(\"exp_raw\", \"IPUMS\")\n",
    "\n",
    "# DDI Data Dictionary\n",
    "DDI_FILE = \"cps_00097.xml\"\n",
    "\n",
    "# IPUMS CPS Example Data \n",
    "DAT_FILE = \"cps_00097.dat\""
   ]
  },
  {
   "cell_type": "markdown",
   "metadata": {},
   "source": [
    "### Load Data"
   ]
  },
  {
   "cell_type": "code",
   "execution_count": 3,
   "metadata": {
    "execution": {
     "iopub.execute_input": "2024-11-14T14:56:36.705000Z",
     "iopub.status.busy": "2024-11-14T14:56:36.705000Z",
     "iopub.status.idle": "2024-11-14T14:56:40.105000Z",
     "shell.execute_reply": "2024-11-14T14:56:40.104000Z"
    }
   },
   "outputs": [
    {
     "name": "stderr",
     "output_type": "stream",
     "text": [
      "WARNING:  database \"synthea\" has a collation version mismatch\n",
      "DETAIL:  The database was created using collation version 2.37, but the operating system provides version 2.38.\n",
      "HINT:  Rebuild all objects in this database that use the default collation and run ALTER DATABASE synthea REFRESH COLLATION VERSION, or build PostgreSQL with the right library version.\n",
      "\u001b[36m\u001b[1m[ \u001b[22m\u001b[39m\u001b[36m\u001b[1mInfo: \u001b[22m\u001b[39mGlobal database dialect set to: postgresql\n",
      "\u001b[36m\u001b[1m[ \u001b[22m\u001b[39m\u001b[36m\u001b[1mInfo: \u001b[22m\u001b[39mGlobal schema set to: omop\n",
      "\u001b[36m\u001b[1m[ \u001b[22m\u001b[39m\u001b[36m\u001b[1mInfo: \u001b[22m\u001b[39msource_to_concept_map table generated internally\n",
      "\u001b[36m\u001b[1m[ \u001b[22m\u001b[39m\u001b[36m\u001b[1mInfo: \u001b[22m\u001b[39mpayer_plan_period table generated internally\n",
      "\u001b[36m\u001b[1m[ \u001b[22m\u001b[39m\u001b[36m\u001b[1mInfo: \u001b[22m\u001b[39mvocabulary table generated internally\n",
      "\u001b[36m\u001b[1m[ \u001b[22m\u001b[39m\u001b[36m\u001b[1mInfo: \u001b[22m\u001b[39mnote_nlp table generated internally\n",
      "\u001b[36m\u001b[1m[ \u001b[22m\u001b[39m\u001b[36m\u001b[1mInfo: \u001b[22m\u001b[39mprocedure_occurrence table generated internally\n",
      "\u001b[36m\u001b[1m[ \u001b[22m\u001b[39m\u001b[36m\u001b[1mInfo: \u001b[22m\u001b[39mdomain table generated internally\n",
      "\u001b[36m\u001b[1m[ \u001b[22m\u001b[39m\u001b[36m\u001b[1mInfo: \u001b[22m\u001b[39mmetadata table generated internally\n",
      "\u001b[36m\u001b[1m[ \u001b[22m\u001b[39m\u001b[36m\u001b[1mInfo: \u001b[22m\u001b[39mcohort_summary_stats table generated internally\n",
      "\u001b[36m\u001b[1m[ \u001b[22m\u001b[39m\u001b[36m\u001b[1mInfo: \u001b[22m\u001b[39mfact_relationship table generated internally\n",
      "\u001b[36m\u001b[1m[ \u001b[22m\u001b[39m\u001b[36m\u001b[1mInfo: \u001b[22m\u001b[39mdrug_exposure table generated internally\n",
      "\u001b[36m\u001b[1m[ \u001b[22m\u001b[39m\u001b[36m\u001b[1mInfo: \u001b[22m\u001b[39mall_visits table generated internally\n",
      "\u001b[36m\u001b[1m[ \u001b[22m\u001b[39m\u001b[36m\u001b[1mInfo: \u001b[22m\u001b[39mfinal_visit_ids table generated internally\n",
      "\u001b[36m\u001b[1m[ \u001b[22m\u001b[39m\u001b[36m\u001b[1mInfo: \u001b[22m\u001b[39mperson table generated internally\n",
      "\u001b[36m\u001b[1m[ \u001b[22m\u001b[39m\u001b[36m\u001b[1mInfo: \u001b[22m\u001b[39mcost table generated internally\n",
      "\u001b[36m\u001b[1m[ \u001b[22m\u001b[39m\u001b[36m\u001b[1mInfo: \u001b[22m\u001b[39mobservation table generated internally\n",
      "\u001b[36m\u001b[1m[ \u001b[22m\u001b[39m\u001b[36m\u001b[1mInfo: \u001b[22m\u001b[39mprovider table generated internally\n",
      "\u001b[36m\u001b[1m[ \u001b[22m\u001b[39m\u001b[36m\u001b[1mInfo: \u001b[22m\u001b[39mvisit_detail table generated internally\n",
      "\u001b[36m\u001b[1m[ \u001b[22m\u001b[39m\u001b[36m\u001b[1mInfo: \u001b[22m\u001b[39massign_all_visit_ids table generated internally\n",
      "\u001b[36m\u001b[1m[ \u001b[22m\u001b[39m\u001b[36m\u001b[1mInfo: \u001b[22m\u001b[39mdevice_exposure table generated internally\n",
      "\u001b[36m\u001b[1m[ \u001b[22m\u001b[39m\u001b[36m\u001b[1mInfo: \u001b[22m\u001b[39mmeasurement table generated internally\n",
      "\u001b[36m\u001b[1m[ \u001b[22m\u001b[39m\u001b[36m\u001b[1mInfo: \u001b[22m\u001b[39msource_to_standard_vocab_map table generated internally\n",
      "\u001b[36m\u001b[1m[ \u001b[22m\u001b[39m\u001b[36m\u001b[1mInfo: \u001b[22m\u001b[39mlocation table generated internally\n",
      "\u001b[36m\u001b[1m[ \u001b[22m\u001b[39m\u001b[36m\u001b[1mInfo: \u001b[22m\u001b[39mvisit_occurrence table generated internally\n",
      "\u001b[36m\u001b[1m[ \u001b[22m\u001b[39m\u001b[36m\u001b[1mInfo: \u001b[22m\u001b[39mrelationship table generated internally\n",
      "\u001b[36m\u001b[1m[ \u001b[22m\u001b[39m\u001b[36m\u001b[1mInfo: \u001b[22m\u001b[39mdose_era table generated internally\n",
      "\u001b[36m\u001b[1m[ \u001b[22m\u001b[39m\u001b[36m\u001b[1mInfo: \u001b[22m\u001b[39mconcept table generated internally\n",
      "\u001b[36m\u001b[1m[ \u001b[22m\u001b[39m\u001b[36m\u001b[1mInfo: \u001b[22m\u001b[39mdeath table generated internally\n",
      "\u001b[36m\u001b[1m[ \u001b[22m\u001b[39m\u001b[36m\u001b[1mInfo: \u001b[22m\u001b[39mconcept_class table generated internally\n",
      "\u001b[36m\u001b[1m[ \u001b[22m\u001b[39m\u001b[36m\u001b[1mInfo: \u001b[22m\u001b[39mdrug_era table generated internally\n",
      "\u001b[36m\u001b[1m[ \u001b[22m\u001b[39m\u001b[36m\u001b[1mInfo: \u001b[22m\u001b[39mnote table generated internally\n",
      "\u001b[36m\u001b[1m[ \u001b[22m\u001b[39m\u001b[36m\u001b[1mInfo: \u001b[22m\u001b[39mepisode_event table generated internally\n",
      "\u001b[36m\u001b[1m[ \u001b[22m\u001b[39m\u001b[36m\u001b[1mInfo: \u001b[22m\u001b[39mepisode table generated internally\n",
      "\u001b[36m\u001b[1m[ \u001b[22m\u001b[39m\u001b[36m\u001b[1mInfo: \u001b[22m\u001b[39mspecimen table generated internally\n",
      "\u001b[36m\u001b[1m[ \u001b[22m\u001b[39m\u001b[36m\u001b[1mInfo: \u001b[22m\u001b[39mcondition_occurrence table generated internally\n",
      "\u001b[36m\u001b[1m[ \u001b[22m\u001b[39m\u001b[36m\u001b[1mInfo: \u001b[22m\u001b[39mcohort_inclusion table generated internally\n",
      "\u001b[36m\u001b[1m[ \u001b[22m\u001b[39m\u001b[36m\u001b[1mInfo: \u001b[22m\u001b[39mcohort table generated internally\n",
      "\u001b[36m\u001b[1m[ \u001b[22m\u001b[39m\u001b[36m\u001b[1mInfo: \u001b[22m\u001b[39mconcept_ancestor table generated internally\n",
      "\u001b[36m\u001b[1m[ \u001b[22m\u001b[39m\u001b[36m\u001b[1mInfo: \u001b[22m\u001b[39mcohort_inclusion_stats table generated internally\n",
      "\u001b[36m\u001b[1m[ \u001b[22m\u001b[39m\u001b[36m\u001b[1mInfo: \u001b[22m\u001b[39mcohort_inclusion_result table generated internally\n",
      "\u001b[36m\u001b[1m[ \u001b[22m\u001b[39m\u001b[36m\u001b[1mInfo: \u001b[22m\u001b[39mobservation_period table generated internally\n",
      "\u001b[36m\u001b[1m[ \u001b[22m\u001b[39m\u001b[36m\u001b[1mInfo: \u001b[22m\u001b[39mcondition_era table generated internally\n",
      "\u001b[36m\u001b[1m[ \u001b[22m\u001b[39m\u001b[36m\u001b[1mInfo: \u001b[22m\u001b[39mconcept_relationship table generated internally\n",
      "\u001b[36m\u001b[1m[ \u001b[22m\u001b[39m\u001b[36m\u001b[1mInfo: \u001b[22m\u001b[39mcohort_censor_stats table generated internally\n",
      "\u001b[36m\u001b[1m[ \u001b[22m\u001b[39m\u001b[36m\u001b[1mInfo: \u001b[22m\u001b[39mconcept_synonym table generated internally\n",
      "\u001b[36m\u001b[1m[ \u001b[22m\u001b[39m\u001b[36m\u001b[1mInfo: \u001b[22m\u001b[39mcdm_source table generated internally\n",
      "\u001b[36m\u001b[1m[ \u001b[22m\u001b[39m\u001b[36m\u001b[1mInfo: \u001b[22m\u001b[39mcohort_definition table generated internally\n",
      "\u001b[36m\u001b[1m[ \u001b[22m\u001b[39m\u001b[36m\u001b[1mInfo: \u001b[22m\u001b[39mdrug_strength table generated internally\n",
      "\u001b[36m\u001b[1m[ \u001b[22m\u001b[39m\u001b[36m\u001b[1mInfo: \u001b[22m\u001b[39msource_to_source_vocab_map table generated internally\n",
      "\u001b[36m\u001b[1m[ \u001b[22m\u001b[39m\u001b[36m\u001b[1mInfo: \u001b[22m\u001b[39mcare_site table generated internally\n",
      "\u001b[36m\u001b[1m[ \u001b[22m\u001b[39m\u001b[36m\u001b[1mInfo: \u001b[22m\u001b[39msource_to_concept_map table generated publicly\n",
      "\u001b[36m\u001b[1m[ \u001b[22m\u001b[39m\u001b[36m\u001b[1mInfo: \u001b[22m\u001b[39mpayer_plan_period table generated publicly\n",
      "\u001b[36m\u001b[1m[ \u001b[22m\u001b[39m\u001b[36m\u001b[1mInfo: \u001b[22m\u001b[39mvocabulary table generated publicly\n",
      "\u001b[36m\u001b[1m[ \u001b[22m\u001b[39m\u001b[36m\u001b[1mInfo: \u001b[22m\u001b[39mnote_nlp table generated publicly\n",
      "\u001b[36m\u001b[1m[ \u001b[22m\u001b[39m\u001b[36m\u001b[1mInfo: \u001b[22m\u001b[39mprocedure_occurrence table generated publicly\n",
      "\u001b[36m\u001b[1m[ \u001b[22m\u001b[39m\u001b[36m\u001b[1mInfo: \u001b[22m\u001b[39mdomain table generated publicly\n",
      "\u001b[36m\u001b[1m[ \u001b[22m\u001b[39m\u001b[36m\u001b[1mInfo: \u001b[22m\u001b[39mmetadata table generated publicly\n",
      "\u001b[36m\u001b[1m[ \u001b[22m\u001b[39m\u001b[36m\u001b[1mInfo: \u001b[22m\u001b[39mcohort_summary_stats table generated publicly\n",
      "\u001b[36m\u001b[1m[ \u001b[22m\u001b[39m\u001b[36m\u001b[1mInfo: \u001b[22m\u001b[39mfact_relationship table generated publicly\n",
      "\u001b[36m\u001b[1m[ \u001b[22m\u001b[39m\u001b[36m\u001b[1mInfo: \u001b[22m\u001b[39mdrug_exposure table generated publicly\n",
      "\u001b[36m\u001b[1m[ \u001b[22m\u001b[39m\u001b[36m\u001b[1mInfo: \u001b[22m\u001b[39mall_visits table generated publicly\n",
      "\u001b[36m\u001b[1m[ \u001b[22m\u001b[39m\u001b[36m\u001b[1mInfo: \u001b[22m\u001b[39mfinal_visit_ids table generated publicly\n",
      "\u001b[36m\u001b[1m[ \u001b[22m\u001b[39m\u001b[36m\u001b[1mInfo: \u001b[22m\u001b[39mperson table generated publicly\n",
      "\u001b[36m\u001b[1m[ \u001b[22m\u001b[39m\u001b[36m\u001b[1mInfo: \u001b[22m\u001b[39mcost table generated publicly\n",
      "\u001b[36m\u001b[1m[ \u001b[22m\u001b[39m\u001b[36m\u001b[1mInfo: \u001b[22m\u001b[39mobservation table generated publicly\n",
      "\u001b[36m\u001b[1m[ \u001b[22m\u001b[39m\u001b[36m\u001b[1mInfo: \u001b[22m\u001b[39mprovider table generated publicly\n",
      "\u001b[36m\u001b[1m[ \u001b[22m\u001b[39m\u001b[36m\u001b[1mInfo: \u001b[22m\u001b[39mvisit_detail table generated publicly\n",
      "\u001b[36m\u001b[1m[ \u001b[22m\u001b[39m\u001b[36m\u001b[1mInfo: \u001b[22m\u001b[39massign_all_visit_ids table generated publicly\n",
      "\u001b[36m\u001b[1m[ \u001b[22m\u001b[39m\u001b[36m\u001b[1mInfo: \u001b[22m\u001b[39mdevice_exposure table generated publicly\n",
      "\u001b[36m\u001b[1m[ \u001b[22m\u001b[39m\u001b[36m\u001b[1mInfo: \u001b[22m\u001b[39mmeasurement table generated publicly\n",
      "\u001b[36m\u001b[1m[ \u001b[22m\u001b[39m\u001b[36m\u001b[1mInfo: \u001b[22m\u001b[39msource_to_standard_vocab_map table generated publicly\n",
      "\u001b[36m\u001b[1m[ \u001b[22m\u001b[39m\u001b[36m\u001b[1mInfo: \u001b[22m\u001b[39mlocation table generated publicly\n",
      "\u001b[36m\u001b[1m[ \u001b[22m\u001b[39m\u001b[36m\u001b[1mInfo: \u001b[22m\u001b[39mvisit_occurrence table generated publicly\n",
      "\u001b[36m\u001b[1m[ \u001b[22m\u001b[39m\u001b[36m\u001b[1mInfo: \u001b[22m\u001b[39mrelationship table generated publicly\n",
      "\u001b[36m\u001b[1m[ \u001b[22m\u001b[39m\u001b[36m\u001b[1mInfo: \u001b[22m\u001b[39mdose_era table generated publicly\n",
      "\u001b[36m\u001b[1m[ \u001b[22m\u001b[39m\u001b[36m\u001b[1mInfo: \u001b[22m\u001b[39mconcept table generated publicly\n",
      "\u001b[36m\u001b[1m[ \u001b[22m\u001b[39m\u001b[36m\u001b[1mInfo: \u001b[22m\u001b[39mdeath table generated publicly\n",
      "\u001b[36m\u001b[1m[ \u001b[22m\u001b[39m\u001b[36m\u001b[1mInfo: \u001b[22m\u001b[39mconcept_class table generated publicly\n",
      "\u001b[36m\u001b[1m[ \u001b[22m\u001b[39m\u001b[36m\u001b[1mInfo: \u001b[22m\u001b[39mdrug_era table generated publicly\n",
      "\u001b[36m\u001b[1m[ \u001b[22m\u001b[39m\u001b[36m\u001b[1mInfo: \u001b[22m\u001b[39mnote table generated publicly\n",
      "\u001b[36m\u001b[1m[ \u001b[22m\u001b[39m\u001b[36m\u001b[1mInfo: \u001b[22m\u001b[39mepisode_event table generated publicly\n",
      "\u001b[36m\u001b[1m[ \u001b[22m\u001b[39m\u001b[36m\u001b[1mInfo: \u001b[22m\u001b[39mepisode table generated publicly\n",
      "\u001b[36m\u001b[1m[ \u001b[22m\u001b[39m\u001b[36m\u001b[1mInfo: \u001b[22m\u001b[39mspecimen table generated publicly\n",
      "\u001b[36m\u001b[1m[ \u001b[22m\u001b[39m\u001b[36m\u001b[1mInfo: \u001b[22m\u001b[39mcondition_occurrence table generated publicly\n",
      "\u001b[36m\u001b[1m[ \u001b[22m\u001b[39m\u001b[36m\u001b[1mInfo: \u001b[22m\u001b[39mcohort_inclusion table generated publicly\n",
      "\u001b[36m\u001b[1m[ \u001b[22m\u001b[39m\u001b[36m\u001b[1mInfo: \u001b[22m\u001b[39mcohort table generated publicly\n",
      "\u001b[36m\u001b[1m[ \u001b[22m\u001b[39m\u001b[36m\u001b[1mInfo: \u001b[22m\u001b[39mconcept_ancestor table generated publicly\n",
      "\u001b[36m\u001b[1m[ \u001b[22m\u001b[39m\u001b[36m\u001b[1mInfo: \u001b[22m\u001b[39mcohort_inclusion_stats table generated publicly\n",
      "\u001b[36m\u001b[1m[ \u001b[22m\u001b[39m\u001b[36m\u001b[1mInfo: \u001b[22m\u001b[39mcohort_inclusion_result table generated publicly\n",
      "\u001b[36m\u001b[1m[ \u001b[22m\u001b[39m\u001b[36m\u001b[1mInfo: \u001b[22m\u001b[39mobservation_period table generated publicly\n",
      "\u001b[36m\u001b[1m[ \u001b[22m\u001b[39m\u001b[36m\u001b[1mInfo: \u001b[22m\u001b[39mcondition_era table generated publicly\n",
      "\u001b[36m\u001b[1m[ \u001b[22m\u001b[39m\u001b[36m\u001b[1mInfo: \u001b[22m\u001b[39mconcept_relationship table generated publicly\n",
      "\u001b[36m\u001b[1m[ \u001b[22m\u001b[39m\u001b[36m\u001b[1mInfo: \u001b[22m\u001b[39mcohort_censor_stats table generated publicly\n",
      "\u001b[36m\u001b[1m[ \u001b[22m\u001b[39m\u001b[36m\u001b[1mInfo: \u001b[22m\u001b[39mconcept_synonym table generated publicly\n",
      "\u001b[36m\u001b[1m[ \u001b[22m\u001b[39m\u001b[36m\u001b[1mInfo: \u001b[22m\u001b[39mcdm_source table generated publicly\n",
      "\u001b[36m\u001b[1m[ \u001b[22m\u001b[39m\u001b[36m\u001b[1mInfo: \u001b[22m\u001b[39mcohort_definition table generated publicly\n",
      "\u001b[36m\u001b[1m[ \u001b[22m\u001b[39m\u001b[36m\u001b[1mInfo: \u001b[22m\u001b[39mdrug_strength table generated publicly\n",
      "\u001b[36m\u001b[1m[ \u001b[22m\u001b[39m\u001b[36m\u001b[1mInfo: \u001b[22m\u001b[39msource_to_source_vocab_map table generated publicly\n",
      "\u001b[36m\u001b[1m[ \u001b[22m\u001b[39m\u001b[36m\u001b[1mInfo: \u001b[22m\u001b[39mcare_site table generated publicly\n"
     ]
    }
   ],
   "source": [
    "omop_db_conn = connect(LibPQ.Connection, \"user=thecedarprince dbname=synthea\");\n",
    "GenerateDatabaseDetails(:postgresql, \"omop\");\n",
    "omop_tables = GenerateTables(omop_db_conn, exported = true);"
   ]
  },
  {
   "cell_type": "code",
   "execution_count": 4,
   "metadata": {
    "execution": {
     "iopub.execute_input": "2024-11-14T14:56:40.107000Z",
     "iopub.status.busy": "2024-11-14T14:56:40.106000Z",
     "iopub.status.idle": "2024-11-14T14:56:42.533000Z",
     "shell.execute_reply": "2024-11-14T14:56:42.533000Z"
    }
   },
   "outputs": [],
   "source": [
    "ddi = parse_ddi(joinpath(IPUMS_DIR, DDI_FILE));\n",
    "ipums = load_ipums_extract(ddi, joinpath(IPUMS_DIR, DAT_FILE));"
   ]
  },
  {
   "cell_type": "code",
   "execution_count": 5,
   "metadata": {
    "execution": {
     "iopub.execute_input": "2024-11-14T14:56:42.535000Z",
     "iopub.status.busy": "2024-11-14T14:56:42.535000Z",
     "iopub.status.idle": "2024-11-14T14:56:51.212000Z",
     "shell.execute_reply": "2024-11-14T14:56:51.212000Z"
    }
   },
   "outputs": [
    {
     "name": "stderr",
     "output_type": "stream",
     "text": [
      "\u001b[33m\u001b[1m┌ \u001b[22m\u001b[39m\u001b[33m\u001b[1mWarning: \u001b[22m\u001b[39mthread = 1 warning: only found 13 / 14 columns around data row: 4072. Filling remaining columns with `missing`\n",
      "\u001b[33m\u001b[1m└ \u001b[22m\u001b[39m\u001b[90m@ CSV ~/.julia/packages/CSV/XLcqT/src/file.jl:592\u001b[39m\n",
      "\u001b[33m\u001b[1m┌ \u001b[22m\u001b[39m\u001b[33m\u001b[1mWarning: \u001b[22m\u001b[39mthread = 1 warning: only found 13 / 14 columns around data row: 4072. Filling remaining columns with `missing`\n",
      "\u001b[33m\u001b[1m└ \u001b[22m\u001b[39m\u001b[90m@ CSV ~/.julia/packages/CSV/XLcqT/src/file.jl:592\u001b[39m\n",
      "\u001b[33m\u001b[1m┌ \u001b[22m\u001b[39m\u001b[33m\u001b[1mWarning: \u001b[22m\u001b[39mthread = 1 warning: only found 13 / 14 columns around data row: 4086. Filling remaining columns with `missing`\n",
      "\u001b[33m\u001b[1m└ \u001b[22m\u001b[39m\u001b[90m@ CSV ~/.julia/packages/CSV/XLcqT/src/file.jl:592\u001b[39m\n",
      "\u001b[33m\u001b[1m┌ \u001b[22m\u001b[39m\u001b[33m\u001b[1mWarning: \u001b[22m\u001b[39mthread = 1 warning: only found 13 / 14 columns around data row: 4086. Filling remaining columns with `missing`\n",
      "\u001b[33m\u001b[1m└ \u001b[22m\u001b[39m\u001b[90m@ CSV ~/.julia/packages/CSV/XLcqT/src/file.jl:592\u001b[39m\n",
      "\u001b[33m\u001b[1m┌ \u001b[22m\u001b[39m\u001b[33m\u001b[1mWarning: \u001b[22m\u001b[39mthread = 1 warning: only found 13 / 14 columns around data row: 6275. Filling remaining columns with `missing`\n",
      "\u001b[33m\u001b[1m└ \u001b[22m\u001b[39m\u001b[90m@ CSV ~/.julia/packages/CSV/XLcqT/src/file.jl:592\u001b[39m\n",
      "\u001b[33m\u001b[1m┌ \u001b[22m\u001b[39m\u001b[33m\u001b[1mWarning: \u001b[22m\u001b[39mthread = 1 warning: only found 13 / 14 columns around data row: 6284. Filling remaining columns with `missing`\n",
      "\u001b[33m\u001b[1m└ \u001b[22m\u001b[39m\u001b[90m@ CSV ~/.julia/packages/CSV/XLcqT/src/file.jl:592\u001b[39m\n",
      "\u001b[33m\u001b[1m┌ \u001b[22m\u001b[39m\u001b[33m\u001b[1mWarning: \u001b[22m\u001b[39mthread = 1 warning: only found 13 / 14 columns around data row: 6321. Filling remaining columns with `missing`\n",
      "\u001b[33m\u001b[1m└ \u001b[22m\u001b[39m\u001b[90m@ CSV ~/.julia/packages/CSV/XLcqT/src/file.jl:592\u001b[39m\n",
      "\u001b[33m\u001b[1m┌ \u001b[22m\u001b[39m\u001b[33m\u001b[1mWarning: \u001b[22m\u001b[39mthread = 1 warning: only found 13 / 14 columns around data row: 6339. Filling remaining columns with `missing`\n",
      "\u001b[33m\u001b[1m└ \u001b[22m\u001b[39m\u001b[90m@ CSV ~/.julia/packages/CSV/XLcqT/src/file.jl:592\u001b[39m\n",
      "\u001b[33m\u001b[1m┌ \u001b[22m\u001b[39m\u001b[33m\u001b[1mWarning: \u001b[22m\u001b[39mthread = 1 warning: only found 13 / 14 columns around data row: 6340. Filling remaining columns with `missing`\n",
      "\u001b[33m\u001b[1m└ \u001b[22m\u001b[39m\u001b[90m@ CSV ~/.julia/packages/CSV/XLcqT/src/file.jl:592\u001b[39m\n",
      "\u001b[33m\u001b[1m┌ \u001b[22m\u001b[39m\u001b[33m\u001b[1mWarning: \u001b[22m\u001b[39mthread = 1 warning: only found 13 / 14 columns around data row: 6362. Filling remaining columns with `missing`\n",
      "\u001b[33m\u001b[1m└ \u001b[22m\u001b[39m\u001b[90m@ CSV ~/.julia/packages/CSV/XLcqT/src/file.jl:592\u001b[39m\n",
      "\u001b[33m\u001b[1m┌ \u001b[22m\u001b[39m\u001b[33m\u001b[1mWarning: \u001b[22m\u001b[39mthread = 1 warning: only found 13 / 14 columns around data row: 9926. Filling remaining columns with `missing`\n",
      "\u001b[33m\u001b[1m└ \u001b[22m\u001b[39m\u001b[90m@ CSV ~/.julia/packages/CSV/XLcqT/src/file.jl:592\u001b[39m\n",
      "\u001b[33m\u001b[1m┌ \u001b[22m\u001b[39m\u001b[33m\u001b[1mWarning: \u001b[22m\u001b[39mthread = 1 warning: only found 13 / 14 columns around data row: 9940. Filling remaining columns with `missing`\n",
      "\u001b[33m\u001b[1m└ \u001b[22m\u001b[39m\u001b[90m@ CSV ~/.julia/packages/CSV/XLcqT/src/file.jl:592\u001b[39m\n"
     ]
    },
    {
     "data": {
      "text/plain": [
       "12614-element Vector{String31}:\n",
       " \"001\"\n",
       " \"001\"\n",
       " \"001\"\n",
       " \"001\"\n",
       " \"001\"\n",
       " \"001\"\n",
       " \"001\"\n",
       " \"001\"\n",
       " \"001\"\n",
       " \"001\"\n",
       " \"001\"\n",
       " \"001\"\n",
       " \"001\"\n",
       " ⋮\n",
       " \"365\"\n",
       " \"365\"\n",
       " \"365\"\n",
       " \"365\"\n",
       " \"365\"\n",
       " \"365\"\n",
       " \"365\"\n",
       " \"365\"\n",
       " \"365\"\n",
       " \"365\"\n",
       " \"365\"\n",
       " \"365\""
      ]
     },
     "execution_count": 5,
     "metadata": {},
     "output_type": "execute_result"
    }
   ],
   "source": [
    "weather_data = CSV.read(datadir(\"exp_raw\", \"climdiv-tmpcst-v1.0.0-20241021-filtered\"), DataFrame, header = false, delim = \"  \")\n",
    "filter!(row -> row.Column1[5:6] == \"02\", weather_data)\n",
    "states = [row[1:3] for row in weather_data.Column1]\n",
    "years = [parse(Int, row[7:10]) for row in weather_data.Column1]\n",
    "weather_data = weather_data[:, Not(:Column1, :Column14)]\n",
    "rename!(weather_data, Dates.monthname.(1:12))\n",
    "weather_data.Year = years\n",
    "weather_data.State = states"
   ]
  },
  {
   "cell_type": "markdown",
   "metadata": {},
   "source": [
    "# Patients with a History of Myocardial Infarction\n",
    "\n",
    "## Finding Patients Who Have Had Myocardial Infarction"
   ]
  },
  {
   "cell_type": "code",
   "execution_count": 6,
   "metadata": {
    "execution": {
     "iopub.execute_input": "2024-11-14T14:56:51.215000Z",
     "iopub.status.busy": "2024-11-14T14:56:51.214000Z",
     "iopub.status.idle": "2024-11-14T14:57:18.465000Z",
     "shell.execute_reply": "2024-11-14T14:57:18.465000Z"
    }
   },
   "outputs": [
    {
     "data": {
      "text/html": [
       "<div><div style = \"float: left;\"><span>6750×2 DataFrame</span></div><div style = \"float: right;\"><span style = \"font-style: italic;\">6725 rows omitted</span></div><div style = \"clear: both;\"></div></div><div class = \"data-frame\" style = \"overflow-x: scroll;\"><table class = \"data-frame\" style = \"margin-bottom: 6px;\"><thead><tr class = \"header\"><th class = \"rowNumber\" style = \"font-weight: bold; text-align: right;\">Row</th><th style = \"text-align: left;\">cohort_definition_id</th><th style = \"text-align: left;\">subject_id</th></tr><tr class = \"subheader headerLastRow\"><th class = \"rowNumber\" style = \"font-weight: bold; text-align: right;\"></th><th title = \"Union{Missing, Int64}\" style = \"text-align: left;\">Int64?</th><th title = \"Union{Missing, Int64}\" style = \"text-align: left;\">Int64?</th></tr></thead><tbody><tr><td class = \"rowNumber\" style = \"font-weight: bold; text-align: right;\">1</td><td style = \"text-align: right;\">1</td><td style = \"text-align: right;\">39</td></tr><tr><td class = \"rowNumber\" style = \"font-weight: bold; text-align: right;\">2</td><td style = \"text-align: right;\">1</td><td style = \"text-align: right;\">122</td></tr><tr><td class = \"rowNumber\" style = \"font-weight: bold; text-align: right;\">3</td><td style = \"text-align: right;\">1</td><td style = \"text-align: right;\">173</td></tr><tr><td class = \"rowNumber\" style = \"font-weight: bold; text-align: right;\">4</td><td style = \"text-align: right;\">1</td><td style = \"text-align: right;\">258</td></tr><tr><td class = \"rowNumber\" style = \"font-weight: bold; text-align: right;\">5</td><td style = \"text-align: right;\">1</td><td style = \"text-align: right;\">291</td></tr><tr><td class = \"rowNumber\" style = \"font-weight: bold; text-align: right;\">6</td><td style = \"text-align: right;\">1</td><td style = \"text-align: right;\">442</td></tr><tr><td class = \"rowNumber\" style = \"font-weight: bold; text-align: right;\">7</td><td style = \"text-align: right;\">1</td><td style = \"text-align: right;\">490</td></tr><tr><td class = \"rowNumber\" style = \"font-weight: bold; text-align: right;\">8</td><td style = \"text-align: right;\">1</td><td style = \"text-align: right;\">502</td></tr><tr><td class = \"rowNumber\" style = \"font-weight: bold; text-align: right;\">9</td><td style = \"text-align: right;\">1</td><td style = \"text-align: right;\">509</td></tr><tr><td class = \"rowNumber\" style = \"font-weight: bold; text-align: right;\">10</td><td style = \"text-align: right;\">1</td><td style = \"text-align: right;\">535</td></tr><tr><td class = \"rowNumber\" style = \"font-weight: bold; text-align: right;\">11</td><td style = \"text-align: right;\">1</td><td style = \"text-align: right;\">608</td></tr><tr><td class = \"rowNumber\" style = \"font-weight: bold; text-align: right;\">12</td><td style = \"text-align: right;\">1</td><td style = \"text-align: right;\">622</td></tr><tr><td class = \"rowNumber\" style = \"font-weight: bold; text-align: right;\">13</td><td style = \"text-align: right;\">1</td><td style = \"text-align: right;\">636</td></tr><tr><td style = \"text-align: right;\">&vellip;</td><td style = \"text-align: right;\">&vellip;</td><td style = \"text-align: right;\">&vellip;</td></tr><tr><td class = \"rowNumber\" style = \"font-weight: bold; text-align: right;\">6739</td><td style = \"text-align: right;\">1</td><td style = \"text-align: right;\">113549</td></tr><tr><td class = \"rowNumber\" style = \"font-weight: bold; text-align: right;\">6740</td><td style = \"text-align: right;\">1</td><td style = \"text-align: right;\">113560</td></tr><tr><td class = \"rowNumber\" style = \"font-weight: bold; text-align: right;\">6741</td><td style = \"text-align: right;\">1</td><td style = \"text-align: right;\">113625</td></tr><tr><td class = \"rowNumber\" style = \"font-weight: bold; text-align: right;\">6742</td><td style = \"text-align: right;\">1</td><td style = \"text-align: right;\">113686</td></tr><tr><td class = \"rowNumber\" style = \"font-weight: bold; text-align: right;\">6743</td><td style = \"text-align: right;\">1</td><td style = \"text-align: right;\">113760</td></tr><tr><td class = \"rowNumber\" style = \"font-weight: bold; text-align: right;\">6744</td><td style = \"text-align: right;\">1</td><td style = \"text-align: right;\">113806</td></tr><tr><td class = \"rowNumber\" style = \"font-weight: bold; text-align: right;\">6745</td><td style = \"text-align: right;\">1</td><td style = \"text-align: right;\">113868</td></tr><tr><td class = \"rowNumber\" style = \"font-weight: bold; text-align: right;\">6746</td><td style = \"text-align: right;\">1</td><td style = \"text-align: right;\">114004</td></tr><tr><td class = \"rowNumber\" style = \"font-weight: bold; text-align: right;\">6747</td><td style = \"text-align: right;\">1</td><td style = \"text-align: right;\">114059</td></tr><tr><td class = \"rowNumber\" style = \"font-weight: bold; text-align: right;\">6748</td><td style = \"text-align: right;\">1</td><td style = \"text-align: right;\">114189</td></tr><tr><td class = \"rowNumber\" style = \"font-weight: bold; text-align: right;\">6749</td><td style = \"text-align: right;\">1</td><td style = \"text-align: right;\">114206</td></tr><tr><td class = \"rowNumber\" style = \"font-weight: bold; text-align: right;\">6750</td><td style = \"text-align: right;\">1</td><td style = \"text-align: right;\">114223</td></tr></tbody></table></div>"
      ],
      "text/latex": [
       "\\begin{tabular}{r|cc}\n",
       "\t& cohort\\_definition\\_id & subject\\_id\\\\\n",
       "\t\\hline\n",
       "\t& Int64? & Int64?\\\\\n",
       "\t\\hline\n",
       "\t1 & 1 & 39 \\\\\n",
       "\t2 & 1 & 122 \\\\\n",
       "\t3 & 1 & 173 \\\\\n",
       "\t4 & 1 & 258 \\\\\n",
       "\t5 & 1 & 291 \\\\\n",
       "\t6 & 1 & 442 \\\\\n",
       "\t7 & 1 & 490 \\\\\n",
       "\t8 & 1 & 502 \\\\\n",
       "\t9 & 1 & 509 \\\\\n",
       "\t10 & 1 & 535 \\\\\n",
       "\t11 & 1 & 608 \\\\\n",
       "\t12 & 1 & 622 \\\\\n",
       "\t13 & 1 & 636 \\\\\n",
       "\t14 & 1 & 773 \\\\\n",
       "\t15 & 1 & 904 \\\\\n",
       "\t16 & 1 & 942 \\\\\n",
       "\t17 & 1 & 960 \\\\\n",
       "\t18 & 1 & 979 \\\\\n",
       "\t19 & 1 & 1104 \\\\\n",
       "\t20 & 1 & 1130 \\\\\n",
       "\t21 & 1 & 1154 \\\\\n",
       "\t22 & 1 & 1174 \\\\\n",
       "\t23 & 1 & 1325 \\\\\n",
       "\t24 & 1 & 1570 \\\\\n",
       "\t25 & 1 & 1577 \\\\\n",
       "\t26 & 1 & 1646 \\\\\n",
       "\t27 & 1 & 1670 \\\\\n",
       "\t28 & 1 & 1686 \\\\\n",
       "\t29 & 1 & 1689 \\\\\n",
       "\t30 & 1 & 1755 \\\\\n",
       "\t$\\dots$ & $\\dots$ & $\\dots$ \\\\\n",
       "\\end{tabular}\n"
      ],
      "text/plain": [
       "\u001b[1m6750×2 DataFrame\u001b[0m\n",
       "\u001b[1m  Row \u001b[0m│\u001b[1m cohort_definition_id \u001b[0m\u001b[1m subject_id \u001b[0m\n",
       "      │\u001b[90m Int64?               \u001b[0m\u001b[90m Int64?     \u001b[0m\n",
       "──────┼──────────────────────────────────\n",
       "    1 │                    1          39\n",
       "    2 │                    1         122\n",
       "    3 │                    1         173\n",
       "    4 │                    1         258\n",
       "    5 │                    1         291\n",
       "    6 │                    1         442\n",
       "    7 │                    1         490\n",
       "    8 │                    1         502\n",
       "    9 │                    1         509\n",
       "   10 │                    1         535\n",
       "   11 │                    1         608\n",
       "  ⋮   │          ⋮                ⋮\n",
       " 6741 │                    1      113625\n",
       " 6742 │                    1      113686\n",
       " 6743 │                    1      113760\n",
       " 6744 │                    1      113806\n",
       " 6745 │                    1      113868\n",
       " 6746 │                    1      114004\n",
       " 6747 │                    1      114059\n",
       " 6748 │                    1      114189\n",
       " 6749 │                    1      114206\n",
       " 6750 │                    1      114223\n",
       "\u001b[36m                        6729 rows omitted\u001b[0m"
      ]
     },
     "execution_count": 6,
     "metadata": {},
     "output_type": "execute_result"
    }
   ],
   "source": [
    "cohort_expression = read(\"data/myocardial_infarction.json\", String)\n",
    "\n",
    "fun_sql = translate(\n",
    "    cohort_expression,\n",
    "    cohort_definition_id = 1\n",
    ");\n",
    "\n",
    "catalog = reflect(\n",
    "    omop_db_conn;\n",
    "    schema = \"omop\",\n",
    "    dialect=:postgresql\n",
    ");\n",
    "\n",
    "sql = render(catalog, fun_sql);\n",
    "\n",
    "res = execute(omop_db_conn,\n",
    "    \"\"\"\n",
    "    INSERT INTO\n",
    "        omop.cohort\n",
    "    SELECT\n",
    "        *\n",
    "    FROM\n",
    "        ($sql) AS foo;\n",
    "    \"\"\"\n",
    ")\n",
    "\n",
    "cohort = GetCohortSubjects([1], omop_db_conn)"
   ]
  },
  {
   "cell_type": "markdown",
   "metadata": {},
   "source": [
    "## Finding When Initial Myocardial Infarctions Took Place"
   ]
  },
  {
   "cell_type": "code",
   "execution_count": 7,
   "metadata": {
    "execution": {
     "iopub.execute_input": "2024-11-14T14:57:18.468000Z",
     "iopub.status.busy": "2024-11-14T14:57:18.467000Z",
     "iopub.status.idle": "2024-11-14T14:57:19.120000Z",
     "shell.execute_reply": "2024-11-14T14:57:19.120000Z"
    }
   },
   "outputs": [
    {
     "data": {
      "text/html": [
       "<div><div style = \"float: left;\"><span>6750×3 DataFrame</span></div><div style = \"float: right;\"><span style = \"font-style: italic;\">6725 rows omitted</span></div><div style = \"clear: both;\"></div></div><div class = \"data-frame\" style = \"overflow-x: scroll;\"><table class = \"data-frame\" style = \"margin-bottom: 6px;\"><thead><tr class = \"header\"><th class = \"rowNumber\" style = \"font-weight: bold; text-align: right;\">Row</th><th style = \"text-align: left;\">cohort_definition_id</th><th style = \"text-align: left;\">person_id</th><th style = \"text-align: left;\">cohort_start_date</th></tr><tr class = \"subheader headerLastRow\"><th class = \"rowNumber\" style = \"font-weight: bold; text-align: right;\"></th><th title = \"Union{Missing, Int64}\" style = \"text-align: left;\">Int64?</th><th title = \"Union{Missing, Int64}\" style = \"text-align: left;\">Int64?</th><th title = \"Union{Missing, Date}\" style = \"text-align: left;\">Date?</th></tr></thead><tbody><tr><td class = \"rowNumber\" style = \"font-weight: bold; text-align: right;\">1</td><td style = \"text-align: right;\">1</td><td style = \"text-align: right;\">39</td><td style = \"text-align: left;\">1998-12-12</td></tr><tr><td class = \"rowNumber\" style = \"font-weight: bold; text-align: right;\">2</td><td style = \"text-align: right;\">1</td><td style = \"text-align: right;\">122</td><td style = \"text-align: left;\">1988-08-17</td></tr><tr><td class = \"rowNumber\" style = \"font-weight: bold; text-align: right;\">3</td><td style = \"text-align: right;\">1</td><td style = \"text-align: right;\">173</td><td style = \"text-align: left;\">1976-01-06</td></tr><tr><td class = \"rowNumber\" style = \"font-weight: bold; text-align: right;\">4</td><td style = \"text-align: right;\">1</td><td style = \"text-align: right;\">258</td><td style = \"text-align: left;\">1958-01-14</td></tr><tr><td class = \"rowNumber\" style = \"font-weight: bold; text-align: right;\">5</td><td style = \"text-align: right;\">1</td><td style = \"text-align: right;\">291</td><td style = \"text-align: left;\">1982-06-17</td></tr><tr><td class = \"rowNumber\" style = \"font-weight: bold; text-align: right;\">6</td><td style = \"text-align: right;\">1</td><td style = \"text-align: right;\">442</td><td style = \"text-align: left;\">1952-10-12</td></tr><tr><td class = \"rowNumber\" style = \"font-weight: bold; text-align: right;\">7</td><td style = \"text-align: right;\">1</td><td style = \"text-align: right;\">490</td><td style = \"text-align: left;\">1978-12-27</td></tr><tr><td class = \"rowNumber\" style = \"font-weight: bold; text-align: right;\">8</td><td style = \"text-align: right;\">1</td><td style = \"text-align: right;\">502</td><td style = \"text-align: left;\">1960-05-17</td></tr><tr><td class = \"rowNumber\" style = \"font-weight: bold; text-align: right;\">9</td><td style = \"text-align: right;\">1</td><td style = \"text-align: right;\">509</td><td style = \"text-align: left;\">2003-02-19</td></tr><tr><td class = \"rowNumber\" style = \"font-weight: bold; text-align: right;\">10</td><td style = \"text-align: right;\">1</td><td style = \"text-align: right;\">535</td><td style = \"text-align: left;\">1976-01-13</td></tr><tr><td class = \"rowNumber\" style = \"font-weight: bold; text-align: right;\">11</td><td style = \"text-align: right;\">1</td><td style = \"text-align: right;\">608</td><td style = \"text-align: left;\">2001-05-23</td></tr><tr><td class = \"rowNumber\" style = \"font-weight: bold; text-align: right;\">12</td><td style = \"text-align: right;\">1</td><td style = \"text-align: right;\">622</td><td style = \"text-align: left;\">1977-04-15</td></tr><tr><td class = \"rowNumber\" style = \"font-weight: bold; text-align: right;\">13</td><td style = \"text-align: right;\">1</td><td style = \"text-align: right;\">636</td><td style = \"text-align: left;\">1986-12-14</td></tr><tr><td style = \"text-align: right;\">&vellip;</td><td style = \"text-align: right;\">&vellip;</td><td style = \"text-align: right;\">&vellip;</td><td style = \"text-align: right;\">&vellip;</td></tr><tr><td class = \"rowNumber\" style = \"font-weight: bold; text-align: right;\">6739</td><td style = \"text-align: right;\">1</td><td style = \"text-align: right;\">113549</td><td style = \"text-align: left;\">1979-11-16</td></tr><tr><td class = \"rowNumber\" style = \"font-weight: bold; text-align: right;\">6740</td><td style = \"text-align: right;\">1</td><td style = \"text-align: right;\">113560</td><td style = \"text-align: left;\">1980-08-31</td></tr><tr><td class = \"rowNumber\" style = \"font-weight: bold; text-align: right;\">6741</td><td style = \"text-align: right;\">1</td><td style = \"text-align: right;\">113625</td><td style = \"text-align: left;\">1968-05-19</td></tr><tr><td class = \"rowNumber\" style = \"font-weight: bold; text-align: right;\">6742</td><td style = \"text-align: right;\">1</td><td style = \"text-align: right;\">113686</td><td style = \"text-align: left;\">2014-08-09</td></tr><tr><td class = \"rowNumber\" style = \"font-weight: bold; text-align: right;\">6743</td><td style = \"text-align: right;\">1</td><td style = \"text-align: right;\">113760</td><td style = \"text-align: left;\">1956-10-22</td></tr><tr><td class = \"rowNumber\" style = \"font-weight: bold; text-align: right;\">6744</td><td style = \"text-align: right;\">1</td><td style = \"text-align: right;\">113806</td><td style = \"text-align: left;\">1941-01-19</td></tr><tr><td class = \"rowNumber\" style = \"font-weight: bold; text-align: right;\">6745</td><td style = \"text-align: right;\">1</td><td style = \"text-align: right;\">113868</td><td style = \"text-align: left;\">1970-01-16</td></tr><tr><td class = \"rowNumber\" style = \"font-weight: bold; text-align: right;\">6746</td><td style = \"text-align: right;\">1</td><td style = \"text-align: right;\">114004</td><td style = \"text-align: left;\">1976-10-24</td></tr><tr><td class = \"rowNumber\" style = \"font-weight: bold; text-align: right;\">6747</td><td style = \"text-align: right;\">1</td><td style = \"text-align: right;\">114059</td><td style = \"text-align: left;\">1978-04-26</td></tr><tr><td class = \"rowNumber\" style = \"font-weight: bold; text-align: right;\">6748</td><td style = \"text-align: right;\">1</td><td style = \"text-align: right;\">114189</td><td style = \"text-align: left;\">1959-11-05</td></tr><tr><td class = \"rowNumber\" style = \"font-weight: bold; text-align: right;\">6749</td><td style = \"text-align: right;\">1</td><td style = \"text-align: right;\">114206</td><td style = \"text-align: left;\">1967-02-24</td></tr><tr><td class = \"rowNumber\" style = \"font-weight: bold; text-align: right;\">6750</td><td style = \"text-align: right;\">1</td><td style = \"text-align: right;\">114223</td><td style = \"text-align: left;\">1987-08-31</td></tr></tbody></table></div>"
      ],
      "text/latex": [
       "\\begin{tabular}{r|ccc}\n",
       "\t& cohort\\_definition\\_id & person\\_id & cohort\\_start\\_date\\\\\n",
       "\t\\hline\n",
       "\t& Int64? & Int64? & Date?\\\\\n",
       "\t\\hline\n",
       "\t1 & 1 & 39 & 1998-12-12 \\\\\n",
       "\t2 & 1 & 122 & 1988-08-17 \\\\\n",
       "\t3 & 1 & 173 & 1976-01-06 \\\\\n",
       "\t4 & 1 & 258 & 1958-01-14 \\\\\n",
       "\t5 & 1 & 291 & 1982-06-17 \\\\\n",
       "\t6 & 1 & 442 & 1952-10-12 \\\\\n",
       "\t7 & 1 & 490 & 1978-12-27 \\\\\n",
       "\t8 & 1 & 502 & 1960-05-17 \\\\\n",
       "\t9 & 1 & 509 & 2003-02-19 \\\\\n",
       "\t10 & 1 & 535 & 1976-01-13 \\\\\n",
       "\t11 & 1 & 608 & 2001-05-23 \\\\\n",
       "\t12 & 1 & 622 & 1977-04-15 \\\\\n",
       "\t13 & 1 & 636 & 1986-12-14 \\\\\n",
       "\t14 & 1 & 773 & 1931-05-06 \\\\\n",
       "\t15 & 1 & 904 & 1993-03-24 \\\\\n",
       "\t16 & 1 & 942 & 1983-01-22 \\\\\n",
       "\t17 & 1 & 960 & 1961-07-30 \\\\\n",
       "\t18 & 1 & 979 & 1980-02-18 \\\\\n",
       "\t19 & 1 & 1104 & 2007-11-09 \\\\\n",
       "\t20 & 1 & 1130 & 2000-11-26 \\\\\n",
       "\t21 & 1 & 1154 & 1959-06-03 \\\\\n",
       "\t22 & 1 & 1174 & 1981-03-27 \\\\\n",
       "\t23 & 1 & 1325 & 1969-10-07 \\\\\n",
       "\t24 & 1 & 1570 & 1977-01-03 \\\\\n",
       "\t25 & 1 & 1577 & 1993-08-09 \\\\\n",
       "\t26 & 1 & 1646 & 1983-12-08 \\\\\n",
       "\t27 & 1 & 1670 & 1956-02-24 \\\\\n",
       "\t28 & 1 & 1686 & 1988-04-08 \\\\\n",
       "\t29 & 1 & 1689 & 1946-07-29 \\\\\n",
       "\t30 & 1 & 1755 & 1968-01-17 \\\\\n",
       "\t$\\dots$ & $\\dots$ & $\\dots$ & $\\dots$ \\\\\n",
       "\\end{tabular}\n"
      ],
      "text/plain": [
       "\u001b[1m6750×3 DataFrame\u001b[0m\n",
       "\u001b[1m  Row \u001b[0m│\u001b[1m cohort_definition_id \u001b[0m\u001b[1m person_id \u001b[0m\u001b[1m cohort_start_date \u001b[0m\n",
       "      │\u001b[90m Int64?               \u001b[0m\u001b[90m Int64?    \u001b[0m\u001b[90m Date?             \u001b[0m\n",
       "──────┼────────────────────────────────────────────────────\n",
       "    1 │                    1         39  1998-12-12\n",
       "    2 │                    1        122  1988-08-17\n",
       "    3 │                    1        173  1976-01-06\n",
       "    4 │                    1        258  1958-01-14\n",
       "    5 │                    1        291  1982-06-17\n",
       "    6 │                    1        442  1952-10-12\n",
       "    7 │                    1        490  1978-12-27\n",
       "    8 │                    1        502  1960-05-17\n",
       "    9 │                    1        509  2003-02-19\n",
       "   10 │                    1        535  1976-01-13\n",
       "   11 │                    1        608  2001-05-23\n",
       "  ⋮   │          ⋮                ⋮              ⋮\n",
       " 6741 │                    1     113625  1968-05-19\n",
       " 6742 │                    1     113686  2014-08-09\n",
       " 6743 │                    1     113760  1956-10-22\n",
       " 6744 │                    1     113806  1941-01-19\n",
       " 6745 │                    1     113868  1970-01-16\n",
       " 6746 │                    1     114004  1976-10-24\n",
       " 6747 │                    1     114059  1978-04-26\n",
       " 6748 │                    1     114189  1959-11-05\n",
       " 6749 │                    1     114206  1967-02-24\n",
       " 6750 │                    1     114223  1987-08-31\n",
       "\u001b[36m                                          6729 rows omitted\u001b[0m"
      ]
     },
     "execution_count": 7,
     "metadata": {},
     "output_type": "execute_result"
    }
   ],
   "source": [
    "cohort = GetCohortSubjectStartDate([1], cohort.subject_id, omop_db_conn)\n",
    "rename!(cohort, :subject_id => :person_id)"
   ]
  },
  {
   "cell_type": "markdown",
   "metadata": {},
   "source": [
    "## Getting Patient Demographic Information"
   ]
  },
  {
   "cell_type": "code",
   "execution_count": 8,
   "metadata": {
    "execution": {
     "iopub.execute_input": "2024-11-14T14:57:19.123000Z",
     "iopub.status.busy": "2024-11-14T14:57:19.122000Z",
     "iopub.status.idle": "2024-11-14T14:57:25.105000Z",
     "shell.execute_reply": "2024-11-14T14:57:25.105000Z"
    }
   },
   "outputs": [
    {
     "data": {
      "text/html": [
       "<div><div style = \"float: left;\"><span>6750×6 DataFrame</span></div><div style = \"float: right;\"><span style = \"font-style: italic;\">6725 rows omitted</span></div><div style = \"clear: both;\"></div></div><div class = \"data-frame\" style = \"overflow-x: scroll;\"><table class = \"data-frame\" style = \"margin-bottom: 6px;\"><thead><tr class = \"header\"><th class = \"rowNumber\" style = \"font-weight: bold; text-align: right;\">Row</th><th style = \"text-align: left;\">person_id</th><th style = \"text-align: left;\">race_concept_id</th><th style = \"text-align: left;\">age_group</th><th style = \"text-align: left;\">gender_concept_id</th><th style = \"text-align: left;\">cohort_definition_id</th><th style = \"text-align: left;\">cohort_start_date</th></tr><tr class = \"subheader headerLastRow\"><th class = \"rowNumber\" style = \"font-weight: bold; text-align: right;\"></th><th title = \"Union{Missing, Int64}\" style = \"text-align: left;\">Int64?</th><th title = \"Union{Missing, Int32}\" style = \"text-align: left;\">Int32?</th><th title = \"Union{Missing, String}\" style = \"text-align: left;\">String?</th><th title = \"Union{Missing, Int32}\" style = \"text-align: left;\">Int32?</th><th title = \"Union{Missing, Int64}\" style = \"text-align: left;\">Int64?</th><th title = \"Union{Missing, Date}\" style = \"text-align: left;\">Date?</th></tr></thead><tbody><tr><td class = \"rowNumber\" style = \"font-weight: bold; text-align: right;\">1</td><td style = \"text-align: right;\">39</td><td style = \"text-align: right;\">8527</td><td style = \"text-align: left;\">40 - 49</td><td style = \"text-align: right;\">8507</td><td style = \"text-align: right;\">1</td><td style = \"text-align: left;\">1998-12-12</td></tr><tr><td class = \"rowNumber\" style = \"font-weight: bold; text-align: right;\">2</td><td style = \"text-align: right;\">122</td><td style = \"text-align: right;\">8516</td><td style = \"text-align: left;\">40 - 49</td><td style = \"text-align: right;\">8532</td><td style = \"text-align: right;\">1</td><td style = \"text-align: left;\">1988-08-17</td></tr><tr><td class = \"rowNumber\" style = \"font-weight: bold; text-align: right;\">3</td><td style = \"text-align: right;\">173</td><td style = \"text-align: right;\">8527</td><td style = \"text-align: left;\">60 - 69</td><td style = \"text-align: right;\">8507</td><td style = \"text-align: right;\">1</td><td style = \"text-align: left;\">1976-01-06</td></tr><tr><td class = \"rowNumber\" style = \"font-weight: bold; text-align: right;\">4</td><td style = \"text-align: right;\">258</td><td style = \"text-align: right;\">8527</td><td style = \"text-align: left;\">60 - 69</td><td style = \"text-align: right;\">8532</td><td style = \"text-align: right;\">1</td><td style = \"text-align: left;\">1958-01-14</td></tr><tr><td class = \"rowNumber\" style = \"font-weight: bold; text-align: right;\">5</td><td style = \"text-align: right;\">291</td><td style = \"text-align: right;\">8527</td><td style = \"text-align: left;\">70 - 79</td><td style = \"text-align: right;\">8532</td><td style = \"text-align: right;\">1</td><td style = \"text-align: left;\">1982-06-17</td></tr><tr><td class = \"rowNumber\" style = \"font-weight: bold; text-align: right;\">6</td><td style = \"text-align: right;\">442</td><td style = \"text-align: right;\">8527</td><td style = \"text-align: left;\">80 - 89</td><td style = \"text-align: right;\">8507</td><td style = \"text-align: right;\">1</td><td style = \"text-align: left;\">1952-10-12</td></tr><tr><td class = \"rowNumber\" style = \"font-weight: bold; text-align: right;\">7</td><td style = \"text-align: right;\">490</td><td style = \"text-align: right;\">8516</td><td style = \"text-align: left;\">40 - 49</td><td style = \"text-align: right;\">8532</td><td style = \"text-align: right;\">1</td><td style = \"text-align: left;\">1978-12-27</td></tr><tr><td class = \"rowNumber\" style = \"font-weight: bold; text-align: right;\">8</td><td style = \"text-align: right;\">502</td><td style = \"text-align: right;\">8527</td><td style = \"text-align: left;\">70 - 79</td><td style = \"text-align: right;\">8507</td><td style = \"text-align: right;\">1</td><td style = \"text-align: left;\">1960-05-17</td></tr><tr><td class = \"rowNumber\" style = \"font-weight: bold; text-align: right;\">9</td><td style = \"text-align: right;\">509</td><td style = \"text-align: right;\">8527</td><td style = \"text-align: left;\">40 - 49</td><td style = \"text-align: right;\">8507</td><td style = \"text-align: right;\">1</td><td style = \"text-align: left;\">2003-02-19</td></tr><tr><td class = \"rowNumber\" style = \"font-weight: bold; text-align: right;\">10</td><td style = \"text-align: right;\">535</td><td style = \"text-align: right;\">8527</td><td style = \"text-align: left;\">70 - 79</td><td style = \"text-align: right;\">8507</td><td style = \"text-align: right;\">1</td><td style = \"text-align: left;\">1976-01-13</td></tr><tr><td class = \"rowNumber\" style = \"font-weight: bold; text-align: right;\">11</td><td style = \"text-align: right;\">608</td><td style = \"text-align: right;\">8527</td><td style = \"text-align: left;\">50 - 59</td><td style = \"text-align: right;\">8532</td><td style = \"text-align: right;\">1</td><td style = \"text-align: left;\">2001-05-23</td></tr><tr><td class = \"rowNumber\" style = \"font-weight: bold; text-align: right;\">12</td><td style = \"text-align: right;\">622</td><td style = \"text-align: right;\">8527</td><td style = \"text-align: left;\">40 - 49</td><td style = \"text-align: right;\">8507</td><td style = \"text-align: right;\">1</td><td style = \"text-align: left;\">1977-04-15</td></tr><tr><td class = \"rowNumber\" style = \"font-weight: bold; text-align: right;\">13</td><td style = \"text-align: right;\">636</td><td style = \"text-align: right;\">8527</td><td style = \"text-align: left;\">60 - 69</td><td style = \"text-align: right;\">8532</td><td style = \"text-align: right;\">1</td><td style = \"text-align: left;\">1986-12-14</td></tr><tr><td style = \"text-align: right;\">&vellip;</td><td style = \"text-align: right;\">&vellip;</td><td style = \"text-align: right;\">&vellip;</td><td style = \"text-align: right;\">&vellip;</td><td style = \"text-align: right;\">&vellip;</td><td style = \"text-align: right;\">&vellip;</td><td style = \"text-align: right;\">&vellip;</td></tr><tr><td class = \"rowNumber\" style = \"font-weight: bold; text-align: right;\">6739</td><td style = \"text-align: right;\">113549</td><td style = \"text-align: right;\">8527</td><td style = \"text-align: left;\">60 - 69</td><td style = \"text-align: right;\">8507</td><td style = \"text-align: right;\">1</td><td style = \"text-align: left;\">1979-11-16</td></tr><tr><td class = \"rowNumber\" style = \"font-weight: bold; text-align: right;\">6740</td><td style = \"text-align: right;\">113560</td><td style = \"text-align: right;\">8527</td><td style = \"text-align: left;\">40 - 49</td><td style = \"text-align: right;\">8507</td><td style = \"text-align: right;\">1</td><td style = \"text-align: left;\">1980-08-31</td></tr><tr><td class = \"rowNumber\" style = \"font-weight: bold; text-align: right;\">6741</td><td style = \"text-align: right;\">113625</td><td style = \"text-align: right;\">8516</td><td style = \"text-align: left;\">70 - 79</td><td style = \"text-align: right;\">8507</td><td style = \"text-align: right;\">1</td><td style = \"text-align: left;\">1968-05-19</td></tr><tr><td class = \"rowNumber\" style = \"font-weight: bold; text-align: right;\">6742</td><td style = \"text-align: right;\">113686</td><td style = \"text-align: right;\">8527</td><td style = \"text-align: left;\">30 - 39</td><td style = \"text-align: right;\">8507</td><td style = \"text-align: right;\">1</td><td style = \"text-align: left;\">2014-08-09</td></tr><tr><td class = \"rowNumber\" style = \"font-weight: bold; text-align: right;\">6743</td><td style = \"text-align: right;\">113760</td><td style = \"text-align: right;\">8527</td><td style = \"text-align: left;\">80 - 89</td><td style = \"text-align: right;\">8507</td><td style = \"text-align: right;\">1</td><td style = \"text-align: left;\">1956-10-22</td></tr><tr><td class = \"rowNumber\" style = \"font-weight: bold; text-align: right;\">6744</td><td style = \"text-align: right;\">113806</td><td style = \"text-align: right;\">8527</td><td style = \"text-align: left;\">Unspecified</td><td style = \"text-align: right;\">8532</td><td style = \"text-align: right;\">1</td><td style = \"text-align: left;\">1941-01-19</td></tr><tr><td class = \"rowNumber\" style = \"font-weight: bold; text-align: right;\">6745</td><td style = \"text-align: right;\">113868</td><td style = \"text-align: right;\">8527</td><td style = \"text-align: left;\">70 - 79</td><td style = \"text-align: right;\">8507</td><td style = \"text-align: right;\">1</td><td style = \"text-align: left;\">1970-01-16</td></tr><tr><td class = \"rowNumber\" style = \"font-weight: bold; text-align: right;\">6746</td><td style = \"text-align: right;\">114004</td><td style = \"text-align: right;\">8527</td><td style = \"text-align: left;\">70 - 79</td><td style = \"text-align: right;\">8507</td><td style = \"text-align: right;\">1</td><td style = \"text-align: left;\">1976-10-24</td></tr><tr><td class = \"rowNumber\" style = \"font-weight: bold; text-align: right;\">6747</td><td style = \"text-align: right;\">114059</td><td style = \"text-align: right;\">8516</td><td style = \"text-align: left;\">50 - 59</td><td style = \"text-align: right;\">8532</td><td style = \"text-align: right;\">1</td><td style = \"text-align: left;\">1978-04-26</td></tr><tr><td class = \"rowNumber\" style = \"font-weight: bold; text-align: right;\">6748</td><td style = \"text-align: right;\">114189</td><td style = \"text-align: right;\">8527</td><td style = \"text-align: left;\">70 - 79</td><td style = \"text-align: right;\">8507</td><td style = \"text-align: right;\">1</td><td style = \"text-align: left;\">1959-11-05</td></tr><tr><td class = \"rowNumber\" style = \"font-weight: bold; text-align: right;\">6749</td><td style = \"text-align: right;\">114206</td><td style = \"text-align: right;\">0</td><td style = \"text-align: left;\">70 - 79</td><td style = \"text-align: right;\">8507</td><td style = \"text-align: right;\">1</td><td style = \"text-align: left;\">1967-02-24</td></tr><tr><td class = \"rowNumber\" style = \"font-weight: bold; text-align: right;\">6750</td><td style = \"text-align: right;\">114223</td><td style = \"text-align: right;\">8527</td><td style = \"text-align: left;\">40 - 49</td><td style = \"text-align: right;\">8507</td><td style = \"text-align: right;\">1</td><td style = \"text-align: left;\">1987-08-31</td></tr></tbody></table></div>"
      ],
      "text/latex": [
       "\\begin{tabular}{r|cccccc}\n",
       "\t& person\\_id & race\\_concept\\_id & age\\_group & gender\\_concept\\_id & cohort\\_definition\\_id & \\\\\n",
       "\t\\hline\n",
       "\t& Int64? & Int32? & String? & Int32? & Int64? & \\\\\n",
       "\t\\hline\n",
       "\t1 & 39 & 8527 & 40 - 49 & 8507 & 1 & $\\dots$ \\\\\n",
       "\t2 & 122 & 8516 & 40 - 49 & 8532 & 1 & $\\dots$ \\\\\n",
       "\t3 & 173 & 8527 & 60 - 69 & 8507 & 1 & $\\dots$ \\\\\n",
       "\t4 & 258 & 8527 & 60 - 69 & 8532 & 1 & $\\dots$ \\\\\n",
       "\t5 & 291 & 8527 & 70 - 79 & 8532 & 1 & $\\dots$ \\\\\n",
       "\t6 & 442 & 8527 & 80 - 89 & 8507 & 1 & $\\dots$ \\\\\n",
       "\t7 & 490 & 8516 & 40 - 49 & 8532 & 1 & $\\dots$ \\\\\n",
       "\t8 & 502 & 8527 & 70 - 79 & 8507 & 1 & $\\dots$ \\\\\n",
       "\t9 & 509 & 8527 & 40 - 49 & 8507 & 1 & $\\dots$ \\\\\n",
       "\t10 & 535 & 8527 & 70 - 79 & 8507 & 1 & $\\dots$ \\\\\n",
       "\t11 & 608 & 8527 & 50 - 59 & 8532 & 1 & $\\dots$ \\\\\n",
       "\t12 & 622 & 8527 & 40 - 49 & 8507 & 1 & $\\dots$ \\\\\n",
       "\t13 & 636 & 8527 & 60 - 69 & 8532 & 1 & $\\dots$ \\\\\n",
       "\t14 & 773 & 8527 & Unspecified & 8507 & 1 & $\\dots$ \\\\\n",
       "\t15 & 904 & 8516 & 40 - 49 & 8507 & 1 & $\\dots$ \\\\\n",
       "\t16 & 942 & 8527 & 60 - 69 & 8507 & 1 & $\\dots$ \\\\\n",
       "\t17 & 960 & 8527 & 80 - 89 & 8507 & 1 & $\\dots$ \\\\\n",
       "\t18 & 979 & 8527 & 60 - 69 & 8507 & 1 & $\\dots$ \\\\\n",
       "\t19 & 1104 & 8527 & 30 - 39 & 8507 & 1 & $\\dots$ \\\\\n",
       "\t20 & 1130 & 8527 & 40 - 49 & 8532 & 1 & $\\dots$ \\\\\n",
       "\t21 & 1154 & 8527 & Unspecified & 8507 & 1 & $\\dots$ \\\\\n",
       "\t22 & 1174 & 8527 & 60 - 69 & 8532 & 1 & $\\dots$ \\\\\n",
       "\t23 & 1325 & 8516 & 70 - 79 & 8507 & 1 & $\\dots$ \\\\\n",
       "\t24 & 1570 & 8516 & 60 - 69 & 8507 & 1 & $\\dots$ \\\\\n",
       "\t25 & 1577 & 8527 & 40 - 49 & 8507 & 1 & $\\dots$ \\\\\n",
       "\t26 & 1646 & 8527 & 50 - 59 & 8507 & 1 & $\\dots$ \\\\\n",
       "\t27 & 1670 & 8527 & 70 - 79 & 8507 & 1 & $\\dots$ \\\\\n",
       "\t28 & 1686 & 8515 & 80 - 89 & 8507 & 1 & $\\dots$ \\\\\n",
       "\t29 & 1689 & 8527 & Unspecified & 8507 & 1 & $\\dots$ \\\\\n",
       "\t30 & 1755 & 8527 & 70 - 79 & 8507 & 1 & $\\dots$ \\\\\n",
       "\t$\\dots$ & $\\dots$ & $\\dots$ & $\\dots$ & $\\dots$ & $\\dots$ &  \\\\\n",
       "\\end{tabular}\n"
      ],
      "text/plain": [
       "\u001b[1m6750×6 DataFrame\u001b[0m\n",
       "\u001b[1m  Row \u001b[0m│\u001b[1m person_id \u001b[0m\u001b[1m race_concept_id \u001b[0m\u001b[1m age_group   \u001b[0m\u001b[1m gender_concept_id \u001b[0m\u001b[1m cohort_def\u001b[0m ⋯\n",
       "      │\u001b[90m Int64?    \u001b[0m\u001b[90m Int32?          \u001b[0m\u001b[90m String?     \u001b[0m\u001b[90m Int32?            \u001b[0m\u001b[90m Int64?    \u001b[0m ⋯\n",
       "──────┼─────────────────────────────────────────────────────────────────────────\n",
       "    1 │        39             8527  40 - 49                   8507             ⋯\n",
       "    2 │       122             8516  40 - 49                   8532\n",
       "    3 │       173             8527  60 - 69                   8507\n",
       "    4 │       258             8527  60 - 69                   8532\n",
       "    5 │       291             8527  70 - 79                   8532             ⋯\n",
       "    6 │       442             8527  80 - 89                   8507\n",
       "    7 │       490             8516  40 - 49                   8532\n",
       "    8 │       502             8527  70 - 79                   8507\n",
       "    9 │       509             8527  40 - 49                   8507             ⋯\n",
       "   10 │       535             8527  70 - 79                   8507\n",
       "   11 │       608             8527  50 - 59                   8532\n",
       "  ⋮   │     ⋮             ⋮              ⋮               ⋮                   ⋮ ⋱\n",
       " 6741 │    113625             8516  70 - 79                   8507\n",
       " 6742 │    113686             8527  30 - 39                   8507             ⋯\n",
       " 6743 │    113760             8527  80 - 89                   8507\n",
       " 6744 │    113806             8527  Unspecified               8532\n",
       " 6745 │    113868             8527  70 - 79                   8507\n",
       " 6746 │    114004             8527  70 - 79                   8507             ⋯\n",
       " 6747 │    114059             8516  50 - 59                   8532\n",
       " 6748 │    114189             8527  70 - 79                   8507\n",
       " 6749 │    114206                0  70 - 79                   8507\n",
       " 6750 │    114223             8527  40 - 49                   8507             ⋯\n",
       "\u001b[36m                                                 2 columns and 6729 rows omitted\u001b[0m"
      ]
     },
     "execution_count": 8,
     "metadata": {},
     "output_type": "execute_result"
    }
   ],
   "source": [
    "cohort = GetPatientGender(cohort, omop_db_conn) |>\n",
    "x -> GetPatientAgeGroup(x, omop_db_conn) |>\n",
    "x -> GetPatientRace(x, omop_db_conn)"
   ]
  },
  {
   "cell_type": "markdown",
   "metadata": {},
   "source": [
    "# Manually Combining Data Together\n",
    "\n",
    "## Remarks\n",
    "\n",
    "Inspecting the datasets, it seems like the following holds true:\n",
    "\n",
    "- The temporal axis is the constraining feature between all these data sets.\n",
    "\n",
    "    * The temporal limitation observed comes from the IPUMS data \n",
    "\n",
    "- The only reliably shared features between datasets are:\n",
    "\n",
    "    * Year\n",
    "\n",
    "    * Month\n",
    "\n",
    "- Data can really only be used reliably between $2011$ and $2010$\n",
    "\n",
    "## Filtering and Combining Datasets"
   ]
  },
  {
   "cell_type": "code",
   "execution_count": 9,
   "metadata": {
    "execution": {
     "iopub.execute_input": "2024-11-14T14:57:25.107000Z",
     "iopub.status.busy": "2024-11-14T14:57:25.107000Z",
     "iopub.status.idle": "2024-11-14T14:57:25.914000Z",
     "shell.execute_reply": "2024-11-14T14:57:25.914000Z"
    }
   },
   "outputs": [
    {
     "data": {
      "text/html": [
       "<div><div style = \"float: left;\"><span>36×6 DataFrame</span></div><div style = \"float: right;\"><span style = \"font-style: italic;\">11 rows omitted</span></div><div style = \"clear: both;\"></div></div><div class = \"data-frame\" style = \"overflow-x: scroll;\"><table class = \"data-frame\" style = \"margin-bottom: 6px;\"><thead><tr class = \"header\"><th class = \"rowNumber\" style = \"font-weight: bold; text-align: right;\">Row</th><th style = \"text-align: left;\">person_id</th><th style = \"text-align: left;\">race_concept_id</th><th style = \"text-align: left;\">age_group</th><th style = \"text-align: left;\">gender_concept_id</th><th style = \"text-align: left;\">cohort_definition_id</th><th style = \"text-align: left;\">cohort_start_date</th></tr><tr class = \"subheader headerLastRow\"><th class = \"rowNumber\" style = \"font-weight: bold; text-align: right;\"></th><th title = \"Union{Missing, Int64}\" style = \"text-align: left;\">Int64?</th><th title = \"Union{Missing, Int32}\" style = \"text-align: left;\">Int32?</th><th title = \"Union{Missing, String}\" style = \"text-align: left;\">String?</th><th title = \"Union{Missing, Int32}\" style = \"text-align: left;\">Int32?</th><th title = \"Union{Missing, Int64}\" style = \"text-align: left;\">Int64?</th><th title = \"Union{Missing, Date}\" style = \"text-align: left;\">Date?</th></tr></thead><tbody><tr><td class = \"rowNumber\" style = \"font-weight: bold; text-align: right;\">1</td><td style = \"text-align: right;\">8000</td><td style = \"text-align: right;\">8527</td><td style = \"text-align: left;\">10 - 19</td><td style = \"text-align: right;\">8507</td><td style = \"text-align: right;\">1</td><td style = \"text-align: left;\">2010-06-24</td></tr><tr><td class = \"rowNumber\" style = \"font-weight: bold; text-align: right;\">2</td><td style = \"text-align: right;\">26415</td><td style = \"text-align: right;\">8527</td><td style = \"text-align: left;\">10 - 19</td><td style = \"text-align: right;\">8507</td><td style = \"text-align: right;\">1</td><td style = \"text-align: left;\">2010-06-30</td></tr><tr><td class = \"rowNumber\" style = \"font-weight: bold; text-align: right;\">3</td><td style = \"text-align: right;\">33302</td><td style = \"text-align: right;\">8527</td><td style = \"text-align: left;\">20 - 29</td><td style = \"text-align: right;\">8507</td><td style = \"text-align: right;\">1</td><td style = \"text-align: left;\">2010-03-31</td></tr><tr><td class = \"rowNumber\" style = \"font-weight: bold; text-align: right;\">4</td><td style = \"text-align: right;\">35114</td><td style = \"text-align: right;\">8527</td><td style = \"text-align: left;\">20 - 29</td><td style = \"text-align: right;\">8532</td><td style = \"text-align: right;\">1</td><td style = \"text-align: left;\">2010-06-11</td></tr><tr><td class = \"rowNumber\" style = \"font-weight: bold; text-align: right;\">5</td><td style = \"text-align: right;\">43953</td><td style = \"text-align: right;\">8527</td><td style = \"text-align: left;\">20 - 29</td><td style = \"text-align: right;\">8507</td><td style = \"text-align: right;\">1</td><td style = \"text-align: left;\">2010-07-29</td></tr><tr><td class = \"rowNumber\" style = \"font-weight: bold; text-align: right;\">6</td><td style = \"text-align: right;\">48053</td><td style = \"text-align: right;\">8515</td><td style = \"text-align: left;\">30 - 39</td><td style = \"text-align: right;\">8507</td><td style = \"text-align: right;\">1</td><td style = \"text-align: left;\">2010-04-19</td></tr><tr><td class = \"rowNumber\" style = \"font-weight: bold; text-align: right;\">7</td><td style = \"text-align: right;\">52706</td><td style = \"text-align: right;\">8527</td><td style = \"text-align: left;\">30 - 39</td><td style = \"text-align: right;\">8507</td><td style = \"text-align: right;\">1</td><td style = \"text-align: left;\">2010-08-21</td></tr><tr><td class = \"rowNumber\" style = \"font-weight: bold; text-align: right;\">8</td><td style = \"text-align: right;\">56736</td><td style = \"text-align: right;\">8527</td><td style = \"text-align: left;\">40 - 49</td><td style = \"text-align: right;\">8507</td><td style = \"text-align: right;\">1</td><td style = \"text-align: left;\">2011-02-16</td></tr><tr><td class = \"rowNumber\" style = \"font-weight: bold; text-align: right;\">9</td><td style = \"text-align: right;\">90045</td><td style = \"text-align: right;\">8527</td><td style = \"text-align: left;\">10 - 19</td><td style = \"text-align: right;\">8507</td><td style = \"text-align: right;\">1</td><td style = \"text-align: left;\">2011-07-26</td></tr><tr><td class = \"rowNumber\" style = \"font-weight: bold; text-align: right;\">10</td><td style = \"text-align: right;\">97579</td><td style = \"text-align: right;\">8527</td><td style = \"text-align: left;\">60 - 69</td><td style = \"text-align: right;\">8507</td><td style = \"text-align: right;\">1</td><td style = \"text-align: left;\">2010-03-01</td></tr><tr><td class = \"rowNumber\" style = \"font-weight: bold; text-align: right;\">11</td><td style = \"text-align: right;\">112246</td><td style = \"text-align: right;\">8527</td><td style = \"text-align: left;\">30 - 39</td><td style = \"text-align: right;\">8507</td><td style = \"text-align: right;\">1</td><td style = \"text-align: left;\">2010-11-20</td></tr><tr><td class = \"rowNumber\" style = \"font-weight: bold; text-align: right;\">12</td><td style = \"text-align: right;\">113080</td><td style = \"text-align: right;\">8527</td><td style = \"text-align: left;\">10 - 19</td><td style = \"text-align: right;\">8507</td><td style = \"text-align: right;\">1</td><td style = \"text-align: left;\">2010-12-30</td></tr><tr><td class = \"rowNumber\" style = \"font-weight: bold; text-align: right;\">13</td><td style = \"text-align: right;\">8000</td><td style = \"text-align: right;\">8527</td><td style = \"text-align: left;\">10 - 19</td><td style = \"text-align: right;\">8507</td><td style = \"text-align: right;\">1</td><td style = \"text-align: left;\">2010-06-24</td></tr><tr><td style = \"text-align: right;\">&vellip;</td><td style = \"text-align: right;\">&vellip;</td><td style = \"text-align: right;\">&vellip;</td><td style = \"text-align: right;\">&vellip;</td><td style = \"text-align: right;\">&vellip;</td><td style = \"text-align: right;\">&vellip;</td><td style = \"text-align: right;\">&vellip;</td></tr><tr><td class = \"rowNumber\" style = \"font-weight: bold; text-align: right;\">25</td><td style = \"text-align: right;\">8000</td><td style = \"text-align: right;\">8527</td><td style = \"text-align: left;\">10 - 19</td><td style = \"text-align: right;\">8507</td><td style = \"text-align: right;\">1</td><td style = \"text-align: left;\">2010-06-24</td></tr><tr><td class = \"rowNumber\" style = \"font-weight: bold; text-align: right;\">26</td><td style = \"text-align: right;\">26415</td><td style = \"text-align: right;\">8527</td><td style = \"text-align: left;\">10 - 19</td><td style = \"text-align: right;\">8507</td><td style = \"text-align: right;\">1</td><td style = \"text-align: left;\">2010-06-30</td></tr><tr><td class = \"rowNumber\" style = \"font-weight: bold; text-align: right;\">27</td><td style = \"text-align: right;\">33302</td><td style = \"text-align: right;\">8527</td><td style = \"text-align: left;\">20 - 29</td><td style = \"text-align: right;\">8507</td><td style = \"text-align: right;\">1</td><td style = \"text-align: left;\">2010-03-31</td></tr><tr><td class = \"rowNumber\" style = \"font-weight: bold; text-align: right;\">28</td><td style = \"text-align: right;\">35114</td><td style = \"text-align: right;\">8527</td><td style = \"text-align: left;\">20 - 29</td><td style = \"text-align: right;\">8532</td><td style = \"text-align: right;\">1</td><td style = \"text-align: left;\">2010-06-11</td></tr><tr><td class = \"rowNumber\" style = \"font-weight: bold; text-align: right;\">29</td><td style = \"text-align: right;\">43953</td><td style = \"text-align: right;\">8527</td><td style = \"text-align: left;\">20 - 29</td><td style = \"text-align: right;\">8507</td><td style = \"text-align: right;\">1</td><td style = \"text-align: left;\">2010-07-29</td></tr><tr><td class = \"rowNumber\" style = \"font-weight: bold; text-align: right;\">30</td><td style = \"text-align: right;\">48053</td><td style = \"text-align: right;\">8515</td><td style = \"text-align: left;\">30 - 39</td><td style = \"text-align: right;\">8507</td><td style = \"text-align: right;\">1</td><td style = \"text-align: left;\">2010-04-19</td></tr><tr><td class = \"rowNumber\" style = \"font-weight: bold; text-align: right;\">31</td><td style = \"text-align: right;\">52706</td><td style = \"text-align: right;\">8527</td><td style = \"text-align: left;\">30 - 39</td><td style = \"text-align: right;\">8507</td><td style = \"text-align: right;\">1</td><td style = \"text-align: left;\">2010-08-21</td></tr><tr><td class = \"rowNumber\" style = \"font-weight: bold; text-align: right;\">32</td><td style = \"text-align: right;\">56736</td><td style = \"text-align: right;\">8527</td><td style = \"text-align: left;\">40 - 49</td><td style = \"text-align: right;\">8507</td><td style = \"text-align: right;\">1</td><td style = \"text-align: left;\">2011-02-16</td></tr><tr><td class = \"rowNumber\" style = \"font-weight: bold; text-align: right;\">33</td><td style = \"text-align: right;\">90045</td><td style = \"text-align: right;\">8527</td><td style = \"text-align: left;\">10 - 19</td><td style = \"text-align: right;\">8507</td><td style = \"text-align: right;\">1</td><td style = \"text-align: left;\">2011-07-26</td></tr><tr><td class = \"rowNumber\" style = \"font-weight: bold; text-align: right;\">34</td><td style = \"text-align: right;\">97579</td><td style = \"text-align: right;\">8527</td><td style = \"text-align: left;\">60 - 69</td><td style = \"text-align: right;\">8507</td><td style = \"text-align: right;\">1</td><td style = \"text-align: left;\">2010-03-01</td></tr><tr><td class = \"rowNumber\" style = \"font-weight: bold; text-align: right;\">35</td><td style = \"text-align: right;\">112246</td><td style = \"text-align: right;\">8527</td><td style = \"text-align: left;\">30 - 39</td><td style = \"text-align: right;\">8507</td><td style = \"text-align: right;\">1</td><td style = \"text-align: left;\">2010-11-20</td></tr><tr><td class = \"rowNumber\" style = \"font-weight: bold; text-align: right;\">36</td><td style = \"text-align: right;\">113080</td><td style = \"text-align: right;\">8527</td><td style = \"text-align: left;\">10 - 19</td><td style = \"text-align: right;\">8507</td><td style = \"text-align: right;\">1</td><td style = \"text-align: left;\">2010-12-30</td></tr></tbody></table></div>"
      ],
      "text/latex": [
       "\\begin{tabular}{r|cccccc}\n",
       "\t& person\\_id & race\\_concept\\_id & age\\_group & gender\\_concept\\_id & cohort\\_definition\\_id & \\\\\n",
       "\t\\hline\n",
       "\t& Int64? & Int32? & String? & Int32? & Int64? & \\\\\n",
       "\t\\hline\n",
       "\t1 & 8000 & 8527 & 10 - 19 & 8507 & 1 & $\\dots$ \\\\\n",
       "\t2 & 26415 & 8527 & 10 - 19 & 8507 & 1 & $\\dots$ \\\\\n",
       "\t3 & 33302 & 8527 & 20 - 29 & 8507 & 1 & $\\dots$ \\\\\n",
       "\t4 & 35114 & 8527 & 20 - 29 & 8532 & 1 & $\\dots$ \\\\\n",
       "\t5 & 43953 & 8527 & 20 - 29 & 8507 & 1 & $\\dots$ \\\\\n",
       "\t6 & 48053 & 8515 & 30 - 39 & 8507 & 1 & $\\dots$ \\\\\n",
       "\t7 & 52706 & 8527 & 30 - 39 & 8507 & 1 & $\\dots$ \\\\\n",
       "\t8 & 56736 & 8527 & 40 - 49 & 8507 & 1 & $\\dots$ \\\\\n",
       "\t9 & 90045 & 8527 & 10 - 19 & 8507 & 1 & $\\dots$ \\\\\n",
       "\t10 & 97579 & 8527 & 60 - 69 & 8507 & 1 & $\\dots$ \\\\\n",
       "\t11 & 112246 & 8527 & 30 - 39 & 8507 & 1 & $\\dots$ \\\\\n",
       "\t12 & 113080 & 8527 & 10 - 19 & 8507 & 1 & $\\dots$ \\\\\n",
       "\t13 & 8000 & 8527 & 10 - 19 & 8507 & 1 & $\\dots$ \\\\\n",
       "\t14 & 26415 & 8527 & 10 - 19 & 8507 & 1 & $\\dots$ \\\\\n",
       "\t15 & 33302 & 8527 & 20 - 29 & 8507 & 1 & $\\dots$ \\\\\n",
       "\t16 & 35114 & 8527 & 20 - 29 & 8532 & 1 & $\\dots$ \\\\\n",
       "\t17 & 43953 & 8527 & 20 - 29 & 8507 & 1 & $\\dots$ \\\\\n",
       "\t18 & 48053 & 8515 & 30 - 39 & 8507 & 1 & $\\dots$ \\\\\n",
       "\t19 & 52706 & 8527 & 30 - 39 & 8507 & 1 & $\\dots$ \\\\\n",
       "\t20 & 56736 & 8527 & 40 - 49 & 8507 & 1 & $\\dots$ \\\\\n",
       "\t21 & 90045 & 8527 & 10 - 19 & 8507 & 1 & $\\dots$ \\\\\n",
       "\t22 & 97579 & 8527 & 60 - 69 & 8507 & 1 & $\\dots$ \\\\\n",
       "\t23 & 112246 & 8527 & 30 - 39 & 8507 & 1 & $\\dots$ \\\\\n",
       "\t24 & 113080 & 8527 & 10 - 19 & 8507 & 1 & $\\dots$ \\\\\n",
       "\t25 & 8000 & 8527 & 10 - 19 & 8507 & 1 & $\\dots$ \\\\\n",
       "\t26 & 26415 & 8527 & 10 - 19 & 8507 & 1 & $\\dots$ \\\\\n",
       "\t27 & 33302 & 8527 & 20 - 29 & 8507 & 1 & $\\dots$ \\\\\n",
       "\t28 & 35114 & 8527 & 20 - 29 & 8532 & 1 & $\\dots$ \\\\\n",
       "\t29 & 43953 & 8527 & 20 - 29 & 8507 & 1 & $\\dots$ \\\\\n",
       "\t30 & 48053 & 8515 & 30 - 39 & 8507 & 1 & $\\dots$ \\\\\n",
       "\t$\\dots$ & $\\dots$ & $\\dots$ & $\\dots$ & $\\dots$ & $\\dots$ &  \\\\\n",
       "\\end{tabular}\n"
      ],
      "text/plain": [
       "\u001b[1m36×6 DataFrame\u001b[0m\n",
       "\u001b[1m Row \u001b[0m│\u001b[1m person_id \u001b[0m\u001b[1m race_concept_id \u001b[0m\u001b[1m age_group \u001b[0m\u001b[1m gender_concept_id \u001b[0m\u001b[1m cohort_defini\u001b[0m ⋯\n",
       "     │\u001b[90m Int64?    \u001b[0m\u001b[90m Int32?          \u001b[0m\u001b[90m String?   \u001b[0m\u001b[90m Int32?            \u001b[0m\u001b[90m Int64?       \u001b[0m ⋯\n",
       "─────┼──────────────────────────────────────────────────────────────────────────\n",
       "   1 │      8000             8527  10 - 19                 8507                ⋯\n",
       "   2 │     26415             8527  10 - 19                 8507\n",
       "   3 │     33302             8527  20 - 29                 8507\n",
       "   4 │     35114             8527  20 - 29                 8532\n",
       "   5 │     43953             8527  20 - 29                 8507                ⋯\n",
       "   6 │     48053             8515  30 - 39                 8507\n",
       "   7 │     52706             8527  30 - 39                 8507\n",
       "   8 │     56736             8527  40 - 49                 8507\n",
       "   9 │     90045             8527  10 - 19                 8507                ⋯\n",
       "  10 │     97579             8527  60 - 69                 8507\n",
       "  11 │    112246             8527  30 - 39                 8507\n",
       "  ⋮  │     ⋮             ⋮             ⋮              ⋮                   ⋮    ⋱\n",
       "  27 │     33302             8527  20 - 29                 8507\n",
       "  28 │     35114             8527  20 - 29                 8532                ⋯\n",
       "  29 │     43953             8527  20 - 29                 8507\n",
       "  30 │     48053             8515  30 - 39                 8507\n",
       "  31 │     52706             8527  30 - 39                 8507\n",
       "  32 │     56736             8527  40 - 49                 8507                ⋯\n",
       "  33 │     90045             8527  10 - 19                 8507\n",
       "  34 │     97579             8527  60 - 69                 8507\n",
       "  35 │    112246             8527  30 - 39                 8507\n",
       "  36 │    113080             8527  10 - 19                 8507                ⋯\n",
       "\u001b[36m                                                   2 columns and 15 rows omitted\u001b[0m"
      ]
     },
     "execution_count": 9,
     "metadata": {},
     "output_type": "execute_result"
    }
   ],
   "source": [
    "filter!(row -> row.Year == 2011, weather_data)\n",
    "ipums = ipums[!, Not([:CPSIDP, :ASECWT, :CPSID, :PERNUM, :ASECFLAG, :ASECWTH, :SERIAL, :YEAR])]\n",
    "patients = filter!(row -> year(row.cohort_start_date) == 2011 || year(row.cohort_start_date) == 2010, cohort)"
   ]
  },
  {
   "cell_type": "markdown",
   "metadata": {},
   "source": [
    "## Creating DataFrame for Prediction"
   ]
  },
  {
   "cell_type": "code",
   "execution_count": null,
   "metadata": {},
   "outputs": [],
   "source": []
  }
 ],
 "metadata": {
  "kernelspec": {
   "display_name": "Julia 1.10.5",
   "language": "julia",
   "name": "julia-1.10"
  },
  "language_info": {
   "file_extension": ".jl",
   "mimetype": "application/julia",
   "name": "julia",
   "version": "1.10.5"
  }
 },
 "nbformat": 4,
 "nbformat_minor": 4
}
