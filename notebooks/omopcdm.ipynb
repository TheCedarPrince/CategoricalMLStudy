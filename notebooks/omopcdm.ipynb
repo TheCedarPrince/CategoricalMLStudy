{
 "cells": [
  {
   "cell_type": "markdown",
   "metadata": {},
   "source": [
    "# Example of the OMOP CDM Data\n",
    "\n",
    "## Small Background\n",
    "\n",
    "> Disclaimer: Section co-written with ChatGPT\n",
    "\n",
    "The Observational Medical Outcomes Partnership Common Data Model (OMOP CDM) is a database schema and standard designed to facilitate the processing of healthcare data from electronic health records, health information exchanges, and electronic medical records.\n",
    "Information about the schema is here: https://ohdsi.github.io/CommonDataModel/cdm54.html but the Entity-Relationship Diagram looks like this:\n",
    "\n",
    "![](./assets/cdm54.png)\n",
    "\n",
    "Some of the most important tables in the OMOP CDM are as follows:\n",
    "\n",
    "1. `person`: Contains unique identifiers for individuals, including demographics \n",
    "2. `condition_occurrence`: Records diagnoses or health conditions, along with their start and end dates.\n",
    "3. `procedure_occurrence`: Documents procedures performed on patients, including surgical and diagnostic interventions.\n",
    "4. `drug_exposure`: Contains information on drug prescriptions, including drug names, dosages, and start/end dates.\n",
    "\n",
    "Each table is linked through common identifiers (such as `person_id` and various `_occurrence_id` variables), enabling comprehensive analysis. \n",
    "\n",
    "## Dependency Set-Up"
   ]
  },
  {
   "cell_type": "code",
   "execution_count": 1,
   "metadata": {
    "execution": {
     "iopub.execute_input": "2024-09-19T13:36:05.498000Z",
     "iopub.status.busy": "2024-09-19T13:36:05.169000Z",
     "iopub.status.idle": "2024-09-19T13:36:06.788000Z",
     "shell.execute_reply": "2024-09-19T13:36:06.750000Z"
    }
   },
   "outputs": [],
   "source": [
    "using DrWatson\n",
    "@quickactivate \"CompositionalMLStudy\"\n",
    "\n",
    "using DataFrames\n",
    "\n",
    "import DBInterface:\n",
    "    execute\n",
    "\n",
    "import DrWatson:\n",
    "  datadir\n",
    "\n",
    "import SQLite:\n",
    "    DB"
   ]
  },
  {
   "cell_type": "markdown",
   "metadata": {},
   "source": [
    "## Setting Constants"
   ]
  },
  {
   "cell_type": "code",
   "execution_count": 2,
   "metadata": {
    "execution": {
     "iopub.execute_input": "2024-09-19T13:36:07.037000Z",
     "iopub.status.busy": "2024-09-19T13:36:06.789000Z",
     "iopub.status.idle": "2024-09-19T13:36:08.489000Z",
     "shell.execute_reply": "2024-09-19T13:36:08.488000Z"
    }
   },
   "outputs": [
    {
     "data": {
      "text/plain": [
       "\"eunomia.sqlite\""
      ]
     },
     "execution_count": 2,
     "metadata": {},
     "output_type": "execute_result"
    }
   ],
   "source": [
    "# OMOP CDM Data Directory\n",
    "OMOPCDM_DIR = datadir(\"exp_raw\", \"OMOPCDM\")\n",
    "\n",
    "# OMOP CDM Example Data \n",
    "DATABASE_FILE = \"eunomia.sqlite\""
   ]
  },
  {
   "cell_type": "markdown",
   "metadata": {},
   "source": [
    "## Basic Exploration of IPUMS Data\n",
    "\n",
    "### Creating Connection to SQLite Database"
   ]
  },
  {
   "cell_type": "code",
   "execution_count": 3,
   "metadata": {
    "execution": {
     "iopub.execute_input": "2024-09-19T13:36:08.507000Z",
     "iopub.status.busy": "2024-09-19T13:36:08.507000Z",
     "iopub.status.idle": "2024-09-19T13:36:08.640000Z",
     "shell.execute_reply": "2024-09-19T13:36:08.639000Z"
    }
   },
   "outputs": [
    {
     "data": {
      "text/plain": [
       "SQLite.DB(\"/home/thecedarprince/Projects/CompositionalMLStudy/data/exp_raw/OMOPCDM/eunomia.sqlite\")"
      ]
     },
     "execution_count": 3,
     "metadata": {},
     "output_type": "execute_result"
    }
   ],
   "source": [
    "conn = DB(joinpath(OMOPCDM_DIR, DATABASE_FILE))"
   ]
  },
  {
   "cell_type": "markdown",
   "metadata": {},
   "source": [
    "### Examining Data\n",
    "\n",
    "List out all tables from the OMOP CDM sample database:"
   ]
  },
  {
   "cell_type": "code",
   "execution_count": 4,
   "metadata": {
    "execution": {
     "iopub.execute_input": "2024-09-19T13:36:08.641000Z",
     "iopub.status.busy": "2024-09-19T13:36:08.641000Z",
     "iopub.status.idle": "2024-09-19T13:36:10.453000Z",
     "shell.execute_reply": "2024-09-19T13:36:10.453000Z"
    }
   },
   "outputs": [
    {
     "data": {
      "text/html": [
       "<div><div style = \"float: left;\"><span>37×1 DataFrame</span></div><div style = \"float: right;\"><span style = \"font-style: italic;\">12 rows omitted</span></div><div style = \"clear: both;\"></div></div><div class = \"data-frame\" style = \"overflow-x: scroll;\"><table class = \"data-frame\" style = \"margin-bottom: 6px;\"><thead><tr class = \"header\"><th class = \"rowNumber\" style = \"font-weight: bold; text-align: right;\">Row</th><th style = \"text-align: left;\">TABLE_NAME</th></tr><tr class = \"subheader headerLastRow\"><th class = \"rowNumber\" style = \"font-weight: bold; text-align: right;\"></th><th title = \"String\" style = \"text-align: left;\">String</th></tr></thead><tbody><tr><td class = \"rowNumber\" style = \"font-weight: bold; text-align: right;\">1</td><td style = \"text-align: left;\">CARE_SITE</td></tr><tr><td class = \"rowNumber\" style = \"font-weight: bold; text-align: right;\">2</td><td style = \"text-align: left;\">CDM_SOURCE</td></tr><tr><td class = \"rowNumber\" style = \"font-weight: bold; text-align: right;\">3</td><td style = \"text-align: left;\">COHORT</td></tr><tr><td class = \"rowNumber\" style = \"font-weight: bold; text-align: right;\">4</td><td style = \"text-align: left;\">COHORT_ATTRIBUTE</td></tr><tr><td class = \"rowNumber\" style = \"font-weight: bold; text-align: right;\">5</td><td style = \"text-align: left;\">CONCEPT</td></tr><tr><td class = \"rowNumber\" style = \"font-weight: bold; text-align: right;\">6</td><td style = \"text-align: left;\">CONCEPT_ANCESTOR</td></tr><tr><td class = \"rowNumber\" style = \"font-weight: bold; text-align: right;\">7</td><td style = \"text-align: left;\">CONCEPT_CLASS</td></tr><tr><td class = \"rowNumber\" style = \"font-weight: bold; text-align: right;\">8</td><td style = \"text-align: left;\">CONCEPT_RELATIONSHIP</td></tr><tr><td class = \"rowNumber\" style = \"font-weight: bold; text-align: right;\">9</td><td style = \"text-align: left;\">CONCEPT_SYNONYM</td></tr><tr><td class = \"rowNumber\" style = \"font-weight: bold; text-align: right;\">10</td><td style = \"text-align: left;\">CONDITION_ERA</td></tr><tr><td class = \"rowNumber\" style = \"font-weight: bold; text-align: right;\">11</td><td style = \"text-align: left;\">CONDITION_OCCURRENCE</td></tr><tr><td class = \"rowNumber\" style = \"font-weight: bold; text-align: right;\">12</td><td style = \"text-align: left;\">COST</td></tr><tr><td class = \"rowNumber\" style = \"font-weight: bold; text-align: right;\">13</td><td style = \"text-align: left;\">DEATH</td></tr><tr><td style = \"text-align: right;\">&vellip;</td><td style = \"text-align: right;\">&vellip;</td></tr><tr><td class = \"rowNumber\" style = \"font-weight: bold; text-align: right;\">26</td><td style = \"text-align: left;\">OBSERVATION</td></tr><tr><td class = \"rowNumber\" style = \"font-weight: bold; text-align: right;\">27</td><td style = \"text-align: left;\">OBSERVATION_PERIOD</td></tr><tr><td class = \"rowNumber\" style = \"font-weight: bold; text-align: right;\">28</td><td style = \"text-align: left;\">PAYER_PLAN_PERIOD</td></tr><tr><td class = \"rowNumber\" style = \"font-weight: bold; text-align: right;\">29</td><td style = \"text-align: left;\">PERSON</td></tr><tr><td class = \"rowNumber\" style = \"font-weight: bold; text-align: right;\">30</td><td style = \"text-align: left;\">PROCEDURE_OCCURRENCE</td></tr><tr><td class = \"rowNumber\" style = \"font-weight: bold; text-align: right;\">31</td><td style = \"text-align: left;\">PROVIDER</td></tr><tr><td class = \"rowNumber\" style = \"font-weight: bold; text-align: right;\">32</td><td style = \"text-align: left;\">RELATIONSHIP</td></tr><tr><td class = \"rowNumber\" style = \"font-weight: bold; text-align: right;\">33</td><td style = \"text-align: left;\">SOURCE_TO_CONCEPT_MAP</td></tr><tr><td class = \"rowNumber\" style = \"font-weight: bold; text-align: right;\">34</td><td style = \"text-align: left;\">SPECIMEN</td></tr><tr><td class = \"rowNumber\" style = \"font-weight: bold; text-align: right;\">35</td><td style = \"text-align: left;\">VISIT_DETAIL</td></tr><tr><td class = \"rowNumber\" style = \"font-weight: bold; text-align: right;\">36</td><td style = \"text-align: left;\">VISIT_OCCURRENCE</td></tr><tr><td class = \"rowNumber\" style = \"font-weight: bold; text-align: right;\">37</td><td style = \"text-align: left;\">VOCABULARY</td></tr></tbody></table></div>"
      ],
      "text/latex": [
       "\\begin{tabular}{r|c}\n",
       "\t& TABLE\\_NAME\\\\\n",
       "\t\\hline\n",
       "\t& String\\\\\n",
       "\t\\hline\n",
       "\t1 & CARE\\_SITE \\\\\n",
       "\t2 & CDM\\_SOURCE \\\\\n",
       "\t3 & COHORT \\\\\n",
       "\t4 & COHORT\\_ATTRIBUTE \\\\\n",
       "\t5 & CONCEPT \\\\\n",
       "\t6 & CONCEPT\\_ANCESTOR \\\\\n",
       "\t7 & CONCEPT\\_CLASS \\\\\n",
       "\t8 & CONCEPT\\_RELATIONSHIP \\\\\n",
       "\t9 & CONCEPT\\_SYNONYM \\\\\n",
       "\t10 & CONDITION\\_ERA \\\\\n",
       "\t11 & CONDITION\\_OCCURRENCE \\\\\n",
       "\t12 & COST \\\\\n",
       "\t13 & DEATH \\\\\n",
       "\t14 & DEVICE\\_EXPOSURE \\\\\n",
       "\t15 & DOMAIN \\\\\n",
       "\t16 & DOSE\\_ERA \\\\\n",
       "\t17 & DRUG\\_ERA \\\\\n",
       "\t18 & DRUG\\_EXPOSURE \\\\\n",
       "\t19 & DRUG\\_STRENGTH \\\\\n",
       "\t20 & FACT\\_RELATIONSHIP \\\\\n",
       "\t21 & LOCATION \\\\\n",
       "\t22 & MEASUREMENT \\\\\n",
       "\t23 & METADATA \\\\\n",
       "\t24 & NOTE \\\\\n",
       "\t25 & NOTE\\_NLP \\\\\n",
       "\t26 & OBSERVATION \\\\\n",
       "\t27 & OBSERVATION\\_PERIOD \\\\\n",
       "\t28 & PAYER\\_PLAN\\_PERIOD \\\\\n",
       "\t29 & PERSON \\\\\n",
       "\t30 & PROCEDURE\\_OCCURRENCE \\\\\n",
       "\t$\\dots$ & $\\dots$ \\\\\n",
       "\\end{tabular}\n"
      ],
      "text/plain": [
       "\u001b[1m37×1 DataFrame\u001b[0m\n",
       "\u001b[1m Row \u001b[0m│\u001b[1m TABLE_NAME            \u001b[0m\n",
       "     │\u001b[90m String                \u001b[0m\n",
       "─────┼───────────────────────\n",
       "   1 │ CARE_SITE\n",
       "   2 │ CDM_SOURCE\n",
       "   3 │ COHORT\n",
       "   4 │ COHORT_ATTRIBUTE\n",
       "   5 │ CONCEPT\n",
       "   6 │ CONCEPT_ANCESTOR\n",
       "   7 │ CONCEPT_CLASS\n",
       "   8 │ CONCEPT_RELATIONSHIP\n",
       "   9 │ CONCEPT_SYNONYM\n",
       "  10 │ CONDITION_ERA\n",
       "  11 │ CONDITION_OCCURRENCE\n",
       "  ⋮  │           ⋮\n",
       "  28 │ PAYER_PLAN_PERIOD\n",
       "  29 │ PERSON\n",
       "  30 │ PROCEDURE_OCCURRENCE\n",
       "  31 │ PROVIDER\n",
       "  32 │ RELATIONSHIP\n",
       "  33 │ SOURCE_TO_CONCEPT_MAP\n",
       "  34 │ SPECIMEN\n",
       "  35 │ VISIT_DETAIL\n",
       "  36 │ VISIT_OCCURRENCE\n",
       "  37 │ VOCABULARY\n",
       "\u001b[36m              16 rows omitted\u001b[0m"
      ]
     },
     "execution_count": 4,
     "metadata": {},
     "output_type": "execute_result"
    }
   ],
   "source": [
    "sql =\n",
    "    \"\"\"\n",
    "    SELECT name AS TABLE_NAME \n",
    "    FROM sqlite_master \n",
    "    WHERE type = 'table' \n",
    "    ORDER BY name;\n",
    "    \"\"\"\n",
    "\n",
    "execute(conn, sql) |> DataFrame"
   ]
  },
  {
   "cell_type": "markdown",
   "metadata": {},
   "source": [
    "Get unique patient IDs from OMOP CDM sample database:"
   ]
  },
  {
   "cell_type": "code",
   "execution_count": 5,
   "metadata": {
    "execution": {
     "iopub.execute_input": "2024-09-19T13:36:10.455000Z",
     "iopub.status.busy": "2024-09-19T13:36:10.455000Z",
     "iopub.status.idle": "2024-09-19T13:36:10.619000Z",
     "shell.execute_reply": "2024-09-19T13:36:10.619000Z"
    }
   },
   "outputs": [
    {
     "data": {
      "text/html": [
       "<div><div style = \"float: left;\"><span>2694×1 DataFrame</span></div><div style = \"float: right;\"><span style = \"font-style: italic;\">2669 rows omitted</span></div><div style = \"clear: both;\"></div></div><div class = \"data-frame\" style = \"overflow-x: scroll;\"><table class = \"data-frame\" style = \"margin-bottom: 6px;\"><thead><tr class = \"header\"><th class = \"rowNumber\" style = \"font-weight: bold; text-align: right;\">Row</th><th style = \"text-align: left;\">person_id</th></tr><tr class = \"subheader headerLastRow\"><th class = \"rowNumber\" style = \"font-weight: bold; text-align: right;\"></th><th title = \"Float64\" style = \"text-align: left;\">Float64</th></tr></thead><tbody><tr><td class = \"rowNumber\" style = \"font-weight: bold; text-align: right;\">1</td><td style = \"text-align: right;\">6.0</td></tr><tr><td class = \"rowNumber\" style = \"font-weight: bold; text-align: right;\">2</td><td style = \"text-align: right;\">123.0</td></tr><tr><td class = \"rowNumber\" style = \"font-weight: bold; text-align: right;\">3</td><td style = \"text-align: right;\">129.0</td></tr><tr><td class = \"rowNumber\" style = \"font-weight: bold; text-align: right;\">4</td><td style = \"text-align: right;\">16.0</td></tr><tr><td class = \"rowNumber\" style = \"font-weight: bold; text-align: right;\">5</td><td style = \"text-align: right;\">65.0</td></tr><tr><td class = \"rowNumber\" style = \"font-weight: bold; text-align: right;\">6</td><td style = \"text-align: right;\">74.0</td></tr><tr><td class = \"rowNumber\" style = \"font-weight: bold; text-align: right;\">7</td><td style = \"text-align: right;\">42.0</td></tr><tr><td class = \"rowNumber\" style = \"font-weight: bold; text-align: right;\">8</td><td style = \"text-align: right;\">187.0</td></tr><tr><td class = \"rowNumber\" style = \"font-weight: bold; text-align: right;\">9</td><td style = \"text-align: right;\">18.0</td></tr><tr><td class = \"rowNumber\" style = \"font-weight: bold; text-align: right;\">10</td><td style = \"text-align: right;\">111.0</td></tr><tr><td class = \"rowNumber\" style = \"font-weight: bold; text-align: right;\">11</td><td style = \"text-align: right;\">149.0</td></tr><tr><td class = \"rowNumber\" style = \"font-weight: bold; text-align: right;\">12</td><td style = \"text-align: right;\">114.0</td></tr><tr><td class = \"rowNumber\" style = \"font-weight: bold; text-align: right;\">13</td><td style = \"text-align: right;\">35.0</td></tr><tr><td style = \"text-align: right;\">&vellip;</td><td style = \"text-align: right;\">&vellip;</td></tr><tr><td class = \"rowNumber\" style = \"font-weight: bold; text-align: right;\">2683</td><td style = \"text-align: right;\">4814.0</td></tr><tr><td class = \"rowNumber\" style = \"font-weight: bold; text-align: right;\">2684</td><td style = \"text-align: right;\">5117.0</td></tr><tr><td class = \"rowNumber\" style = \"font-weight: bold; text-align: right;\">2685</td><td style = \"text-align: right;\">5200.0</td></tr><tr><td class = \"rowNumber\" style = \"font-weight: bold; text-align: right;\">2686</td><td style = \"text-align: right;\">5315.0</td></tr><tr><td class = \"rowNumber\" style = \"font-weight: bold; text-align: right;\">2687</td><td style = \"text-align: right;\">5245.0</td></tr><tr><td class = \"rowNumber\" style = \"font-weight: bold; text-align: right;\">2688</td><td style = \"text-align: right;\">4971.0</td></tr><tr><td class = \"rowNumber\" style = \"font-weight: bold; text-align: right;\">2689</td><td style = \"text-align: right;\">5213.0</td></tr><tr><td class = \"rowNumber\" style = \"font-weight: bold; text-align: right;\">2690</td><td style = \"text-align: right;\">5322.0</td></tr><tr><td class = \"rowNumber\" style = \"font-weight: bold; text-align: right;\">2691</td><td style = \"text-align: right;\">5265.0</td></tr><tr><td class = \"rowNumber\" style = \"font-weight: bold; text-align: right;\">2692</td><td style = \"text-align: right;\">4999.0</td></tr><tr><td class = \"rowNumber\" style = \"font-weight: bold; text-align: right;\">2693</td><td style = \"text-align: right;\">5201.0</td></tr><tr><td class = \"rowNumber\" style = \"font-weight: bold; text-align: right;\">2694</td><td style = \"text-align: right;\">5309.0</td></tr></tbody></table></div>"
      ],
      "text/latex": [
       "\\begin{tabular}{r|c}\n",
       "\t& person\\_id\\\\\n",
       "\t\\hline\n",
       "\t& Float64\\\\\n",
       "\t\\hline\n",
       "\t1 & 6.0 \\\\\n",
       "\t2 & 123.0 \\\\\n",
       "\t3 & 129.0 \\\\\n",
       "\t4 & 16.0 \\\\\n",
       "\t5 & 65.0 \\\\\n",
       "\t6 & 74.0 \\\\\n",
       "\t7 & 42.0 \\\\\n",
       "\t8 & 187.0 \\\\\n",
       "\t9 & 18.0 \\\\\n",
       "\t10 & 111.0 \\\\\n",
       "\t11 & 149.0 \\\\\n",
       "\t12 & 114.0 \\\\\n",
       "\t13 & 35.0 \\\\\n",
       "\t14 & 40.0 \\\\\n",
       "\t15 & 72.0 \\\\\n",
       "\t16 & 53.0 \\\\\n",
       "\t17 & 191.0 \\\\\n",
       "\t18 & 180.0 \\\\\n",
       "\t19 & 78.0 \\\\\n",
       "\t20 & 69.0 \\\\\n",
       "\t21 & 248.0 \\\\\n",
       "\t22 & 105.0 \\\\\n",
       "\t23 & 9.0 \\\\\n",
       "\t24 & 2.0 \\\\\n",
       "\t25 & 49.0 \\\\\n",
       "\t26 & 160.0 \\\\\n",
       "\t27 & 90.0 \\\\\n",
       "\t28 & 81.0 \\\\\n",
       "\t29 & 154.0 \\\\\n",
       "\t30 & 11.0 \\\\\n",
       "\t$\\dots$ & $\\dots$ \\\\\n",
       "\\end{tabular}\n"
      ],
      "text/plain": [
       "\u001b[1m2694×1 DataFrame\u001b[0m\n",
       "\u001b[1m  Row \u001b[0m│\u001b[1m person_id \u001b[0m\n",
       "      │\u001b[90m Float64   \u001b[0m\n",
       "──────┼───────────\n",
       "    1 │       6.0\n",
       "    2 │     123.0\n",
       "    3 │     129.0\n",
       "    4 │      16.0\n",
       "    5 │      65.0\n",
       "    6 │      74.0\n",
       "    7 │      42.0\n",
       "    8 │     187.0\n",
       "    9 │      18.0\n",
       "   10 │     111.0\n",
       "   11 │     149.0\n",
       "  ⋮   │     ⋮\n",
       " 2685 │    5200.0\n",
       " 2686 │    5315.0\n",
       " 2687 │    5245.0\n",
       " 2688 │    4971.0\n",
       " 2689 │    5213.0\n",
       " 2690 │    5322.0\n",
       " 2691 │    5265.0\n",
       " 2692 │    4999.0\n",
       " 2693 │    5201.0\n",
       " 2694 │    5309.0\n",
       "\u001b[36m 2673 rows omitted\u001b[0m"
      ]
     },
     "execution_count": 5,
     "metadata": {},
     "output_type": "execute_result"
    }
   ],
   "source": [
    "sql =\n",
    "    \"\"\"\n",
    "    SELECT person_id \n",
    "    FROM person;\n",
    "    \"\"\"\n",
    "\n",
    "execute(conn, sql) |> DataFrame"
   ]
  }
 ],
 "metadata": {
  "kernelspec": {
   "display_name": "Julia 1.10.4",
   "language": "julia",
   "name": "julia-1.10"
  },
  "language_info": {
   "file_extension": ".jl",
   "mimetype": "application/julia",
   "name": "julia",
   "version": "1.10.4"
  }
 },
 "nbformat": 4,
 "nbformat_minor": 2
}
