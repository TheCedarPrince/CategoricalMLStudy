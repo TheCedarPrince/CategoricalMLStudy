{
  "cells": [
    {
      "cell_type": "markdown",
      "source": [
        "# Example of OMOP CDM Data\n\n## Small Background\n\n> Disclaimer: Section co-written with ChatGPT\n\nThe Observational Medical Outcomes Partnership Common Data Model (OMOP CDM) is a database schema and standard designed to facilitate the processing of healthcare data from electronic health records, health information exchanges, and electronic medical records.\nInformation about the schema is here: https://ohdsi.github.io/CommonDataModel/cdm54.html but the Entity-Relationship Diagram looks like this:\n\n![](assets/cdm54.png)\n\nSome of the most important tables in the OMOP CDM are as follows:\n\n1. `person`: Contains unique identifiers for individuals, including demographics \n2. `condition_occurrence`: Records diagnoses or health conditions, along with their start and end dates.\n3. `procedure_occurrence`: Documents procedures performed on patients, including surgical and diagnostic interventions.\n4. `drug_exposure`: Contains information on drug prescriptions, including drug names, dosages, and start/end dates.\n\nEach table is linked through common identifiers (such as `person_id` and various `_occurrence_id` variables), enabling comprehensive analysis. \n\n## Dependency Set-Up"
      ],
      "metadata": {}
    },
    {
      "outputs": [],
      "cell_type": "code",
      "source": [
        "using DrWatson\n@quickactivate \"CompositionalMLStudy\"\n\nusing DataFrames\n\nimport DBInterface:\n    execute\n\nimport DrWatson:\n  datadir\n\nimport SQLite:\n    DB"
      ],
      "metadata": {},
      "execution_count": null
    },
    {
      "cell_type": "markdown",
      "source": [
        "## Setting Constants"
      ],
      "metadata": {}
    },
    {
      "outputs": [],
      "cell_type": "code",
      "source": [
        "# OMOP CDM Data Directory\nOMOPCDM_DIR = datadir(\"exp_raw\", \"OMOPCDM\")\n\n# OMOP CDM Example Data \nDATABASE_FILE = \"eunomia.sqlite\""
      ],
      "metadata": {},
      "execution_count": null
    },
    {
      "cell_type": "markdown",
      "source": [
        "## Basic Exploration of IPUMS Data\n\n### Creating Connection to SQLite Database"
      ],
      "metadata": {}
    },
    {
      "outputs": [],
      "cell_type": "code",
      "source": [
        "conn = DB(joinpath(OMOPCDM_DIR, DATABASE_FILE))"
      ],
      "metadata": {},
      "execution_count": null
    },
    {
      "cell_type": "markdown",
      "source": [
        "### Examining Data\n\nList out all tables from the OMOP CDM sample database:"
      ],
      "metadata": {}
    },
    {
      "outputs": [],
      "cell_type": "code",
      "source": [
        "sql =\n    \"\"\"\n    SELECT name AS TABLE_NAME \n    FROM sqlite_master \n    WHERE type = 'table' \n    ORDER BY name;\n    \"\"\"\n\nexecute(conn, sql) |> DataFrame"
      ],
      "metadata": {},
      "execution_count": null
    },
    {
      "cell_type": "markdown",
      "source": [
        "Get unique patient IDs from OMOP CDM sample database:"
      ],
      "metadata": {}
    },
    {
      "outputs": [],
      "cell_type": "code",
      "source": [
        "sql =\n    \"\"\"\n    SELECT person_id \n    FROM person;\n    \"\"\"\n\nexecute(conn, sql) |> DataFrame"
      ],
      "metadata": {},
      "execution_count": null
    },
    {
      "cell_type": "markdown",
      "source": [
        "# Representing the OMOP CDM Schema as a UWD \n\nTo represent the OMOP CDM database schema, we simplify the OMOP CDM to just the following tables and relations:\n\n![](assets/omop_cdm_schema_simplified.jpg)\n\nWe also recognize that we can think about the OMOP CDM schema as a category within $\\mathbf{Schema}$ where each table described in this category is an object."
      ],
      "metadata": {}
    }
  ],
  "nbformat_minor": 2,
  "metadata": {
    "language_info": {
      "file_extension": ".jl",
      "mimetype": "application/julia",
      "name": "julia",
      "version": "1.10.5"
    },
    "kernelspec": {
      "name": "julia-1.10",
      "display_name": "Julia 1.10.5",
      "language": "julia"
    }
  },
  "nbformat": 4
}
