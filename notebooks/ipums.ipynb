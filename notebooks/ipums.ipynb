{
 "cells": [
  {
   "cell_type": "markdown",
   "metadata": {},
   "source": [
    "# Example Usage of IPUMS Data\n",
    "\n",
    "## Small Background\n",
    "\n",
    "> Disclaimer: Section co-written with ChatGPT\n",
    "\n",
    "**IPUMS** (Integrated Public Use Microdata Series) is a project that harmonizes and centralizes survey data from across the globe to allow for easier comparison and analysis.\n",
    "The data is free to access but an account must be made per each individual project imprint of **IPUMS** (link: https://www.ipums.org)\n",
    "\n",
    "The **IPUMS CPS** dataset is derived from the U.S. Current Population Survey (CPS), which is a monthly survey conducted by the U.S. Census Bureau and the Bureau of Labor Statistics (BLS) (link here: https://cps.ipums.org/cps/). \n",
    "The CPS collects data on employment, unemployment, earnings, demographics, and other social and economic factors. \n",
    "The most important variables within the CPS are:\n",
    "\n",
    "1. **Household-Level Data**: Contains information about the composition of households, housing characteristics, and household-level variables such as total income.\n",
    "2. **Person-Level Data**: Focuses on individual respondents, providing detailed information on demographic factors such as age, race, gender, and educational attainment.\n",
    "3. **Labor Force Data**: Records employment status, occupation, hours worked, and wage data for individuals. \n",
    "\n",
    "## Dependency Set-Up"
   ]
  },
  {
   "cell_type": "code",
   "execution_count": 1,
   "metadata": {
    "execution": {
     "iopub.execute_input": "2024-09-19T13:35:50.484000Z",
     "iopub.status.busy": "2024-09-19T13:35:50.156000Z",
     "iopub.status.idle": "2024-09-19T13:35:52.063000Z",
     "shell.execute_reply": "2024-09-19T13:35:52.028000Z"
    }
   },
   "outputs": [],
   "source": [
    "using DrWatson\n",
    "@quickactivate \"CompositionalMLStudy\"\n",
    "\n",
    "using DataFrames\n",
    "\n",
    "import DrWatson:\n",
    "  datadir\n",
    "\n",
    "import IPUMS:\n",
    "  load_ipums_extract,\n",
    "  parse_ddi"
   ]
  },
  {
   "cell_type": "markdown",
   "metadata": {},
   "source": [
    "## Setting Constants"
   ]
  },
  {
   "cell_type": "code",
   "execution_count": 2,
   "metadata": {
    "execution": {
     "iopub.execute_input": "2024-09-19T13:35:52.187000Z",
     "iopub.status.busy": "2024-09-19T13:35:52.065000Z",
     "iopub.status.idle": "2024-09-19T13:35:53.577000Z",
     "shell.execute_reply": "2024-09-19T13:35:53.577000Z"
    }
   },
   "outputs": [
    {
     "data": {
      "text/plain": [
       "\"cps_00097.dat\""
      ]
     },
     "execution_count": 2,
     "metadata": {},
     "output_type": "execute_result"
    }
   ],
   "source": [
    "# IPUMS Data Directory\n",
    "IPUMS_DIR = datadir(\"exp_raw\", \"IPUMS\")\n",
    "\n",
    "#=\n",
    "\n",
    "  IPUMS DDI and DAT file to be used.\n",
    "  When one file name is changed, the \n",
    "  other should be updated as well.\n",
    "\n",
    "=#\n",
    "\n",
    "# DDI Data Dictionary\n",
    "DDI_FILE = \"cps_00097.xml\"\n",
    "\n",
    "# IPUMS CPS Example Data \n",
    "DAT_FILE = \"cps_00097.dat\""
   ]
  },
  {
   "cell_type": "markdown",
   "metadata": {},
   "source": [
    "## Basic Exploration of IPUMS Data\n",
    "\n",
    "### Loading Data\n",
    "\n",
    "Loading data dictionary (xml) and [IPUMS International](https://international.ipums.org/international/index.shtml) data file (dat):"
   ]
  },
  {
   "cell_type": "code",
   "execution_count": 3,
   "metadata": {
    "execution": {
     "iopub.execute_input": "2024-09-19T13:35:53.596000Z",
     "iopub.status.busy": "2024-09-19T13:35:53.596000Z",
     "iopub.status.idle": "2024-09-19T13:35:55.990000Z",
     "shell.execute_reply": "2024-09-19T13:35:55.990000Z"
    }
   },
   "outputs": [
    {
     "data": {
      "text/html": [
       "<div><div style = \"float: left;\"><span>5×14 DataFrame</span></div><div style = \"clear: both;\"></div></div><div class = \"data-frame\" style = \"overflow-x: scroll;\"><table class = \"data-frame\" style = \"margin-bottom: 6px;\"><thead><tr class = \"header\"><th class = \"rowNumber\" style = \"font-weight: bold; text-align: right;\">Row</th><th style = \"text-align: left;\">YEAR</th><th style = \"text-align: left;\">SERIAL</th><th style = \"text-align: left;\">MONTH</th><th style = \"text-align: left;\">CPSID</th><th style = \"text-align: left;\">ASECFLAG</th><th style = \"text-align: left;\">ASECWTH</th><th style = \"text-align: left;\">FOODSTMP</th><th style = \"text-align: left;\">PERNUM</th><th style = \"text-align: left;\">CPSIDP</th><th style = \"text-align: left;\">ASECWT</th><th style = \"text-align: left;\">AGE</th><th style = \"text-align: left;\">EMPSTAT</th><th style = \"text-align: left;\">AHRSWORKT</th><th style = \"text-align: left;\">HEALTH</th></tr><tr class = \"subheader headerLastRow\"><th class = \"rowNumber\" style = \"font-weight: bold; text-align: right;\"></th><th title = \"Int64\" style = \"text-align: left;\">Int64</th><th title = \"Int64\" style = \"text-align: left;\">Int64</th><th title = \"Int64\" style = \"text-align: left;\">Int64</th><th title = \"Int64\" style = \"text-align: left;\">Int64</th><th title = \"Int64\" style = \"text-align: left;\">Int64</th><th title = \"Float64\" style = \"text-align: left;\">Float64</th><th title = \"Int64\" style = \"text-align: left;\">Int64</th><th title = \"Int64\" style = \"text-align: left;\">Int64</th><th title = \"Int64\" style = \"text-align: left;\">Int64</th><th title = \"Float64\" style = \"text-align: left;\">Float64</th><th title = \"Int64\" style = \"text-align: left;\">Int64</th><th title = \"Int64\" style = \"text-align: left;\">Int64</th><th title = \"Int64\" style = \"text-align: left;\">Int64</th><th title = \"Int64\" style = \"text-align: left;\">Int64</th></tr></thead><tbody><tr><td class = \"rowNumber\" style = \"font-weight: bold; text-align: right;\">1</td><td style = \"text-align: right;\">2011</td><td style = \"text-align: right;\">33</td><td style = \"text-align: right;\">3</td><td style = \"text-align: right;\">20100302841800</td><td style = \"text-align: right;\">1</td><td style = \"text-align: right;\">308.26</td><td style = \"text-align: right;\">1</td><td style = \"text-align: right;\">1</td><td style = \"text-align: right;\">20100302841801</td><td style = \"text-align: right;\">308.26</td><td style = \"text-align: right;\">46</td><td style = \"text-align: right;\">10</td><td style = \"text-align: right;\">50</td><td style = \"text-align: right;\">2</td></tr><tr><td class = \"rowNumber\" style = \"font-weight: bold; text-align: right;\">2</td><td style = \"text-align: right;\">2011</td><td style = \"text-align: right;\">33</td><td style = \"text-align: right;\">3</td><td style = \"text-align: right;\">20100302841800</td><td style = \"text-align: right;\">1</td><td style = \"text-align: right;\">308.26</td><td style = \"text-align: right;\">1</td><td style = \"text-align: right;\">2</td><td style = \"text-align: right;\">20100302841803</td><td style = \"text-align: right;\">216.84</td><td style = \"text-align: right;\">14</td><td style = \"text-align: right;\">0</td><td style = \"text-align: right;\">999</td><td style = \"text-align: right;\">1</td></tr><tr><td class = \"rowNumber\" style = \"font-weight: bold; text-align: right;\">3</td><td style = \"text-align: right;\">2011</td><td style = \"text-align: right;\">33</td><td style = \"text-align: right;\">3</td><td style = \"text-align: right;\">20100302841800</td><td style = \"text-align: right;\">1</td><td style = \"text-align: right;\">308.26</td><td style = \"text-align: right;\">1</td><td style = \"text-align: right;\">3</td><td style = \"text-align: right;\">20100302841802</td><td style = \"text-align: right;\">249.14</td><td style = \"text-align: right;\">10</td><td style = \"text-align: right;\">0</td><td style = \"text-align: right;\">999</td><td style = \"text-align: right;\">1</td></tr><tr><td class = \"rowNumber\" style = \"font-weight: bold; text-align: right;\">4</td><td style = \"text-align: right;\">2011</td><td style = \"text-align: right;\">46</td><td style = \"text-align: right;\">3</td><td style = \"text-align: right;\">20110102848200</td><td style = \"text-align: right;\">1</td><td style = \"text-align: right;\">265.55</td><td style = \"text-align: right;\">1</td><td style = \"text-align: right;\">1</td><td style = \"text-align: right;\">20110102848201</td><td style = \"text-align: right;\">265.55</td><td style = \"text-align: right;\">63</td><td style = \"text-align: right;\">10</td><td style = \"text-align: right;\">47</td><td style = \"text-align: right;\">3</td></tr><tr><td class = \"rowNumber\" style = \"font-weight: bold; text-align: right;\">5</td><td style = \"text-align: right;\">2011</td><td style = \"text-align: right;\">46</td><td style = \"text-align: right;\">3</td><td style = \"text-align: right;\">20110102848200</td><td style = \"text-align: right;\">1</td><td style = \"text-align: right;\">265.55</td><td style = \"text-align: right;\">1</td><td style = \"text-align: right;\">2</td><td style = \"text-align: right;\">20110102848202</td><td style = \"text-align: right;\">265.55</td><td style = \"text-align: right;\">62</td><td style = \"text-align: right;\">32</td><td style = \"text-align: right;\">999</td><td style = \"text-align: right;\">5</td></tr></tbody></table></div>"
      ],
      "text/latex": [
       "\\begin{tabular}{r|cccccccccc}\n",
       "\t& YEAR & SERIAL & MONTH & CPSID & ASECFLAG & ASECWTH & FOODSTMP & PERNUM & CPSIDP & \\\\\n",
       "\t\\hline\n",
       "\t& Int64 & Int64 & Int64 & Int64 & Int64 & Float64 & Int64 & Int64 & Int64 & \\\\\n",
       "\t\\hline\n",
       "\t1 & 2011 & 33 & 3 & 20100302841800 & 1 & 308.26 & 1 & 1 & 20100302841801 & $\\dots$ \\\\\n",
       "\t2 & 2011 & 33 & 3 & 20100302841800 & 1 & 308.26 & 1 & 2 & 20100302841803 & $\\dots$ \\\\\n",
       "\t3 & 2011 & 33 & 3 & 20100302841800 & 1 & 308.26 & 1 & 3 & 20100302841802 & $\\dots$ \\\\\n",
       "\t4 & 2011 & 46 & 3 & 20110102848200 & 1 & 265.55 & 1 & 1 & 20110102848201 & $\\dots$ \\\\\n",
       "\t5 & 2011 & 46 & 3 & 20110102848200 & 1 & 265.55 & 1 & 2 & 20110102848202 & $\\dots$ \\\\\n",
       "\\end{tabular}\n"
      ],
      "text/plain": [
       "\u001b[1m5×14 DataFrame\u001b[0m\n",
       "\u001b[1m Row \u001b[0m│\u001b[1m YEAR  \u001b[0m\u001b[1m SERIAL \u001b[0m\u001b[1m MONTH \u001b[0m\u001b[1m CPSID          \u001b[0m\u001b[1m ASECFLAG \u001b[0m\u001b[1m ASECWTH \u001b[0m\u001b[1m FOODSTMP \u001b[0m\u001b[1m PERN\u001b[0m ⋯\n",
       "     │\u001b[90m Int64 \u001b[0m\u001b[90m Int64  \u001b[0m\u001b[90m Int64 \u001b[0m\u001b[90m Int64          \u001b[0m\u001b[90m Int64    \u001b[0m\u001b[90m Float64 \u001b[0m\u001b[90m Int64    \u001b[0m\u001b[90m Int6\u001b[0m ⋯\n",
       "─────┼──────────────────────────────────────────────────────────────────────────\n",
       "   1 │  2011      33      3  20100302841800         1   308.26         1       ⋯\n",
       "   2 │  2011      33      3  20100302841800         1   308.26         1\n",
       "   3 │  2011      33      3  20100302841800         1   308.26         1\n",
       "   4 │  2011      46      3  20110102848200         1   265.55         1\n",
       "   5 │  2011      46      3  20110102848200         1   265.55         1       ⋯\n",
       "\u001b[36m                                                               7 columns omitted\u001b[0m"
      ]
     },
     "execution_count": 3,
     "metadata": {},
     "output_type": "execute_result"
    }
   ],
   "source": [
    "ddi = parse_ddi(joinpath(IPUMS_DIR, DDI_FILE));\n",
    "df = load_ipums_extract(ddi, joinpath(IPUMS_DIR, DAT_FILE));\n",
    "first(df, 5)"
   ]
  },
  {
   "cell_type": "markdown",
   "metadata": {},
   "source": [
    "### Examining Metadata\n",
    "\n",
    "By `DataFrame`:"
   ]
  },
  {
   "cell_type": "code",
   "execution_count": 4,
   "metadata": {
    "execution": {
     "iopub.execute_input": "2024-09-19T13:35:55.992000Z",
     "iopub.status.busy": "2024-09-19T13:35:55.992000Z",
     "iopub.status.idle": "2024-09-19T13:35:56.090000Z",
     "shell.execute_reply": "2024-09-19T13:35:56.090000Z"
    }
   },
   "outputs": [
    {
     "name": "stdout",
     "output_type": "stream",
     "text": [
      "extract_notes:\n",
      "----------------\n",
      "\n",
      " User-provided description:  Reproducing cps00011 example data\n",
      "\n",
      "\n",
      "citation:\n",
      "----------------\n",
      "\n",
      " Publications and research reports based on the IPUMS-CPS database must cite it appropriately. The citation should include the following:\n",
      "\n",
      "Sarah Flood, Miriam King, Renae Rodgers, Steven Ruggles, J. Robert Warren and Michael Westberry. Integrated Public Use Microdata Series, Current Population Survey: Version 10.0 [dataset]. Minneapolis, MN: IPUMS, 2022. https://doi.org/10.18128/D030.V10.0\n",
      "\n",
      "The licensing agreement for use of IPUMS-CPS data requires that users supply us with the title and full citation for any publications, research reports, or educational materials making use of the data or documentation. Please add your citation to the IPUMS bibliography: http://bibliography.ipums.org/\n",
      "\n",
      "\n",
      "extract_date:\n",
      "----------------\n",
      "\n",
      " 2023-03-20\n",
      "\n",
      "\n",
      "conditions:\n",
      "----------------\n",
      "\n",
      " Users of IPUMS-CPS data must agree to abide by the conditions of use. A user's license is valid for one year and may be renewed.  Users must agree to the following conditions:\n",
      "\n",
      "(1) No fees may be charged for use or distribution of the data.  All persons are granted a limited license to use these data, but you may not charge a fee for the data if you distribute it to others.\n",
      "\n",
      "(2) Cite IPUMS appropriately.  For information on proper citation,  refer to the citation requirement section of this DDI document.\n",
      "\n",
      "(3) Tell us about any work you do using the IPUMS.  Publications, research  reports, or presentations making use of IPUMS-CPS should be added to our  Bibliography. Continued funding for the IPUMS depends on our ability to  show our sponsor agencies that researchers are using the data for productive  purposes.\n",
      "\n",
      "(4) Use it for GOOD -- never for EVIL.\n",
      "\n",
      "\n",
      "ipums_project:\n",
      "----------------\n",
      "\n",
      " IPUMS CPS\n",
      "\n",
      "\n"
     ]
    }
   ],
   "source": [
    "meta_info = metadata(df)\n",
    "for md in keys(meta_info)\n",
    "  println(\"$(md):\\n----------------\\n\\n $(meta_info[md])\\n\\n\")\n",
    "end"
   ]
  },
  {
   "cell_type": "markdown",
   "metadata": {},
   "source": [
    "By each column of the `DataFrame`:"
   ]
  },
  {
   "cell_type": "code",
   "execution_count": 5,
   "metadata": {
    "execution": {
     "iopub.execute_input": "2024-09-19T13:35:56.092000Z",
     "iopub.status.busy": "2024-09-19T13:35:56.092000Z",
     "iopub.status.idle": "2024-09-19T13:35:56.112000Z",
     "shell.execute_reply": "2024-09-19T13:35:56.112000Z"
    }
   },
   "outputs": [
    {
     "name": "stdout",
     "output_type": "stream",
     "text": [
      "YEAR:\n",
      "----------------\n",
      "\n",
      " YEAR reports the year in which the survey was conducted.  YEARP is repeated on person records.\n",
      "\n",
      "\n",
      "SERIAL:\n",
      "----------------\n",
      "\n",
      " SERIAL is an identifying number unique to each household in a given survey month and year.  All person records are assigned the same serial number as the household record they follow.  A combination of YEAR, MONTH, and SERIAL provides a within-sample unique identifier for every household in IPUMS-CPS; YEAR, MONTH, SERIAL, and PERNUM uniquely identify every person within a single sample.\n",
      "\n",
      "SERIAL is a new value generated for IPUMS-CPS and should not be confused with the household serial number created by the Census Bureau and included in the original CPS data.\n",
      "\n",
      "\n",
      "MONTH:\n",
      "----------------\n",
      "\n",
      " MONTH indicates the calendar month of the CPS interview.\n",
      "\n",
      "\n",
      "CPSID:\n",
      "----------------\n",
      "\n",
      " CPSID is an IPUMS-CPS defined variable that uniquely identifies households across CPS samples. The first six digits of CPSID index the four-digit year and two-digit month that the household was first in the CPS. CPSID allows users to link a household record across samples, based on the 4-8-4 rotation pattern, by assigning a unique CPSID value based on a combination of household identifiers. CPSID will only ever appear for a maximum of 8 times, which is the number of times a household may be observed in the CPS survey (as indexed by MISH). In some cases, a household will appear fewer than 8 times due to migration, mortality, non-response, and recording errors. CPSID Extensive documentation about the creation of CPSID is available elsewhere.\n",
      "\n",
      "CPSID may also be used to link ASEC respondents who are in the March Basic Monthly file to other months of CPS data. This linking is made possible by IPUMS through the creation of MARBASECIDP. Users should note that ASEC oversample households (as indicated by ASECOVERH) will always have a CPSID value of 0.\n",
      "\n",
      "Users may also want to see CPSIDP for more information about linking individuals across time using a person-specific version of CPSID.\n",
      "\n",
      "\n",
      "ASECFLAG:\n",
      "----------------\n",
      "\n",
      " ASECFLAG indicates whether the respondent is part of the ASEC or the March Basic. This variable is useful for users who wish to distinguish ASEC and March Basic files in their extracts. See further information about the ASEC versus the March Basic Monthly Files.\n",
      "\n",
      "\n",
      "ASECWTH:\n",
      "----------------\n",
      "\n",
      " ASECWTH is a household-level weight that should be used to generate statistics about households in March Annual Social and Economic (ASEC) Supplement data. The CPS uses a complex stratified sampling scheme, and ASECWTH must be used to produce unbiased household-level statistics from the IPUMS-CPS ASEC data. For analyses of non-ASEC data, researchers should use HWTFINL. For individual-level analyses, researchers should use WTFINL, ASECWT, or EARNWT. \n",
      "\n",
      "ASECWTH generally has the same value as WTSUPP for the household head or reference person. Vacant housing units and households that could not be interviewed due to residents' absence or refusal to participate have a value of zero in HWTSUPP; such sampled units were included in the public use CPS data beginning in 1988. \n",
      "\n",
      "Estimates on the entire population are prepared by projecting forward the resident population from the last available census. These projections are derived by updating the demographic census data from a number of other data sources that account for death, births and net migration. About 3 years after every census (i.e. 2003 for the 2000 Census and 2013 for the 2010 Census), the Census Bureau updates its independent population control and provides a new weight for the relevant years.\n",
      "\n",
      "Two important points should be noted here. First, the lag between when the Census is conducted and when the CPS weights are updated is about 3 years. While the Census data are being processed, the CPS files are made available using the weighting scheme from the US Census prior to the latest Census. Second, once the files are updated, the old weights become obsolete and are replaced in the IPUMS data extract system. Published estimates from the lag years that use the old weights are not always updated. For example, 2010 poverty estimates were released in ASEC using the 2000 population controls. Once the 2010 population controls were made available, IPUMS-CPS replaced the ASEC 2010, 2011, and 2012 weights that are based on the 2000 population control with weights that are based on the 2010 population controls.\n",
      "\n",
      "IPUMS-CPS makes available only the most up-to-date weights. The old values are available here: Old SPM and Weights Values.\n",
      "\n",
      "\n",
      "FOODSTMP:\n",
      "----------------\n",
      "\n",
      " FOODSTMP indicates whether one or more members of the household received benefits from the Supplement Nutrition Assistance Program (SNAP) during the prior year. This program is formerly known as the Food Stamps program.\n",
      "\n",
      "Once such a household was identified, three follow-up questions were asked.  The first question determined the number of current household members covered by Food Stamps during the previous calendar year (STAMPNO).  The second question determined the number of months that Food Stamps were received during the previous year (STAMPMO).  Finally, a last question determined the total face value of Food Stamps received during that period (STAMPVAL).\n",
      "\n",
      "The Food Stamp Act of 1977 was enacted to increase the food purchasing power of eligible households through the use of coupons to purchase food. The Food and Nutrition Service of the U.S. Department of Agriculture (USDA) administers the Food Stamp Program through State and local welfare offices. The Food Stamp Program is the major national income support program which provides benefits to all low-income and low-resource households, regardless of the person's characteristics (e.g., sex, age, disability, etc.). The Food Stamps program was renamed SNAP as part of the Farm Bill of 2008.\n",
      "\n",
      "For some variables relating to means-tested government assistance, including FOODSTMP, information was collected only from households whose estimated income fell below a given threshold.  During the first month that a household entered the survey, and one year later, the CPS interviewer asked the respondent to estimate the family's total income in the past twelve months, by choosing one of fourteen broad categories.  Only households in which the household members' combined income fell below a given level (e.g., under 30,000 dollars in the 1980s) were questioned about means-tested program benefits.  Households with estimated incomes above the threshold were presumed to neither qualify for nor receive such benefits, and were not asked these questions, to limit the length of interviews.  Households that were not questioned were coded as \"no\" for several variables relating to the receipt of means-tested benefits, including FOODSTMP.\n",
      "\n",
      "\n",
      "PERNUM:\n",
      "----------------\n",
      "\n",
      " PERNUM numbers all persons within each household consecutively (starting with \"1\") in the order in which they are listed in the original CPS data.  When combined with YEAR , MONTH, and SERIAL, PERNUM uniquely identifies each person within IPUMS-CPS samples, though not across IPUMS-CPS samples.\n",
      "\n",
      "\n",
      "CPSIDP:\n",
      "----------------\n",
      "\n",
      " CPSIDP is an IPUMS CPS defined variable that uniquely identifies individuals across CPS samples. The first six digits of CPSIDP index the four-digit year and two-digit month that the household was first in the CPS. CPSIDP allows users to link a respondent appearing with a designated household roster line number (LINENO) across samples, based on the 4-8-4 rotation pattern, by assigning a unique CPSIDP value to this line number. CPSIDP will only ever appear for a maximum of 8 times, which is the number of times a household may be observed in the CPS survey (as indexed by MISH). In some cases, individuals will appear fewer than 8 times due to migration, mortality, non-response, and recording errors. Extensive documentation about the creation of CPSIDP is available elsewhere.\n",
      "\n",
      "Users should note that it is important to verify CPSIDP linkages with AGE, SEX, and RACE. In some cases CPSIDP will result in erroneous links, which are due to errors in the source data. Cases with the same CPSIDP value may also have inconsistent responses across samples due to errors on the part of the respondent or in recording the response. Ultimately, it is up to the individual researcher to determine the acceptability of the linkages made using CPSIDP. \n",
      "\n",
      "CPSIDP may also be used to link ASEC respondents who are in the March Basic Monthly file to other months of CPS data. This linking is made possible by IPUMS through the creation of MARBASECIDP. \n",
      "\n",
      "To get started using CPSIDP, users may want to sort their data file by CPSIDP and MISH to create a person-time file. \n",
      "\n",
      "Users should take care when including the March Basic or ASEC as part of their linking. Respondents who are part of the ASEC oversample (as indicated by ASECOVERP) have a CPSIDP value of 0. For further information about the relationship between the March Basic and the ASEC, please see our additional documentation.\n",
      "\n",
      "\n",
      "ASECWT:\n",
      "----------------\n",
      "\n",
      " ASECWT is a person-level weight that should be used in analyses of individual-level CPS supplement data. Since the CPS relies on a complex stratified sampling scheme, it is essential to use one of the provided weighting variables.\n",
      "\n",
      "Researchers should use WTFINL rather than ASECWT when they wish to conduct person-level analyses of non-ASEC data. EARNWT should be used for any analysis including a small number of person-level variables (EARNWEEK, HOURWAGE, PAIDHOUR, and UNION). Researchers should use ASECWTH for household-level analyses. ASECWTCVD is available for the 2020 ASEC to adjust for nonrandom nonresponse resulting from the COVID-19 pandemic.\n",
      "\n",
      "User Caution: For analyses that include the 2014 ASEC sample, please see the comparability tab.\n",
      "\n",
      "The ASEC CPS files include two groups of people who are not included in the production of published labor force statistics: (1) members of the armed services, and (2) members of the Hispanic oversample who were interviewed in months other than March. WTFINL and EARNWT assign these groups a value of 0. Both groups are assigned non-zero values in ASECWT.\n",
      "\n",
      "ASECWT is based on the inverse probability of selection into the sample and adjustments for the following factors: failure to obtain an interview; sampling within large sample units; the known distribution of the entire population according to age, sex, and race; over-sampling Hispanic persons; to give husbands and wives the same weight; and an additional step to provide consistency with labor force estimates from the basic survey. \n",
      "\n",
      "Estimates on the entire population are prepared by projecting forward the resident population from the last available census. These projections are derived by updating the demographic census data from a number of other data sources that account for death, births and net migration. About 3 years after every census (i.e. 2003 for the 2000 Census and 2013 for the 2010 Census), the Census Bureau updates its independent population control and provides a new weight for the relevant years.\n",
      "\n",
      "Two important points should be noted here. First, the lag between when the Census is conducted and when the CPS weights are updated is about 3 years. While the Census data are being processed, the CPS files are made available using the weighting scheme from the US Census prior to the latest Census. Second, once the files are updated, the old weights become obsolete and are replaced in the IPUMS data extract system. Published estimates from the lag years that use the old weights are not always updated. For example, 2010 poverty estimates were released in ASEC using the 2000 population controls. Once the 2010 population controls were made available, IPUMS-CPS replaced the ASEC 2010, 2011, and 2012 weights that are based on the 2000 population control with weights that are based on the 2010 population controls. IPUMS-CPS makes available only the most up-to-date weights.\n",
      "\n",
      "\n",
      "AGE:\n",
      "----------------\n",
      "\n",
      " Age gives each person's age at last birthday.\n",
      "\n",
      "\n",
      "EMPSTAT:\n",
      "----------------\n",
      "\n",
      " EMPSTAT indicates whether persons were part of the labor force--working or seeking work--and, if so, whether they were currently unemployed. The variable also provides information on the activity (e.g., doing housework, attending school,) or status (e.g., retired, unable to work) of persons not in the labor force, as well as limited additional information on those who are in the labor force (e.g. members of the Armed Forces, those with a job, but not at work last week). See LABFORCE for a dichotomous variable identifying whether a person participated in the labor force.\n",
      "\n",
      "In the CPS, individuals' employment status was determined on the basis of answers to a series of questions relating to their activities during the preceding week.  Those who reported doing any work at all for pay or profit, or working at least fifteen hours without pay in a family business or farm, were classified as \"at work.\"  Those who did not work during the previous week but who acknowledged having a job or business from which they were temporarily absent (e.g., due to illness, vacation, bad weather, or labor dispute) were also classified as employed, under the heading \"has job, not at work last week.\"\n",
      "\n",
      "Because the CPS is designed to measure unemployment in the civilian population, the original employment status variable in the survey classifies members of the armed forces as NIU (Not in universe).\n",
      "\n",
      "Unemployed persons make up the third element of the labor force.  Individuals were coded as unemployed if they did no work for pay or profit, did not have a job from which they were briefly absent, and either reported looking for work as their major activity during the previous week (for 1962 through 1993) or answered yes to a question about whether they had been looking for work in the past four weeks. People who were temporarily laid off from a job were also classified as unemployed. A separate CPS variable specifying whether an unemployed person had worked before or was looking for a first job was used to distinguish between \"experienced\" and \"inexperienced\" unemployed persons in IPUMS CPS.\n",
      "\n",
      "Persons who were neither employed nor unemployed fall into the residual category, \"not in labor force.\"  Such individuals might be retired, disabled due to an illness lasting at least 6 months, occupied with other activities such as attending school or keeping house, or convinced that they are unlikely to find employment (discouraged workers).\n",
      "\n",
      "\n",
      "AHRSWORKT:\n",
      "----------------\n",
      "\n",
      " AHRSWORKT reports the total number of hours the respondent was at work during the previous week.  For employers and the self-employed, this includes all hours spent attending to their operation(s) or enterprise(s).  For employees, it is the number of hours they spent at work.  For unpaid family workers, it is the number of hours spent doing work directly related to the family business or farm (not including housework).\n",
      "\n",
      "See the Hours Worked Variables Notes for an overview of the different actual and usual hours worked variables.\n",
      "\n",
      "\n",
      "HEALTH:\n",
      "----------------\n",
      "\n",
      " HEALTH indicates how respondents rated their current health on a five-point scale, as excellent, very good, good, fair, or poor.\n",
      "\n",
      "\n"
     ]
    }
   ],
   "source": [
    "for colname in names(df)\n",
    "  println(\"$(colname):\\n----------------\\n\\n $(colmetadata(df, colname, \"description\"))\\n\\n\")\n",
    "end"
   ]
  }
 ],
 "metadata": {
  "kernelspec": {
   "display_name": "Julia 1.10.4",
   "language": "julia",
   "name": "julia-1.10"
  },
  "language_info": {
   "file_extension": ".jl",
   "mimetype": "application/julia",
   "name": "julia",
   "version": "1.10.4"
  }
 },
 "nbformat": 4,
 "nbformat_minor": 2
}
